{
 "cells": [
  {
   "cell_type": "markdown",
   "metadata": {},
   "source": [
    "# HMC on Synthetic Regression"
   ]
  },
  {
   "cell_type": "code",
   "execution_count": 1,
   "metadata": {},
   "outputs": [],
   "source": [
    "import os\n",
    "import sys\n",
    "from jax.config import config\n",
    "import haiku as hk\n",
    "import jax\n",
    "from jax import numpy as jnp\n",
    "import numpy as onp\n",
    "import time\n",
    "from jax.experimental.callback import rewrite\n",
    "import tqdm\n",
    "\n",
    "from bnn_hmc.utils import data_utils\n",
    "from bnn_hmc.utils import models\n",
    "from bnn_hmc.utils import losses\n",
    "from bnn_hmc.utils import checkpoint_utils\n",
    "from bnn_hmc.utils import cmd_args_utils\n",
    "from bnn_hmc.utils import logging_utils\n",
    "from bnn_hmc.utils import train_utils\n",
    "from bnn_hmc.utils import tree_utils\n",
    "from bnn_hmc.utils import precision_utils\n",
    "\n",
    "import optax\n",
    "import functools\n",
    "\n",
    "from matplotlib import pyplot as plt\n",
    "\n",
    "%matplotlib inline\n",
    "%load_ext autoreload\n",
    "%autoreload 2"
   ]
  },
  {
   "cell_type": "code",
   "execution_count": 2,
   "metadata": {},
   "outputs": [],
   "source": [
    "# tpu_ip = \"10.0.0.2\"\n",
    "# config.FLAGS.jax_xla_backend = \"tpu_driver\"\n",
    "# config.FLAGS.jax_backend_target = \"grpc://{}:8470\".format(tpu_ip)\n",
    "train_utils.set_up_jax(None, False)"
   ]
  },
  {
   "cell_type": "markdown",
   "metadata": {},
   "source": [
    "## Data"
   ]
  },
  {
   "cell_type": "code",
   "execution_count": 3,
   "metadata": {},
   "outputs": [
    {
     "name": "stderr",
     "output_type": "stream",
     "text": [
      "WARNING:absl:No GPU/TPU found, falling back to CPU. (Set TF_CPP_MIN_LOG_LEVEL=0 and rerun for more info.)\n"
     ]
    }
   ],
   "source": [
    "data_npz = onp.load(\"synth_reg_data.npz\")\n",
    "x_ = jnp.asarray(data_npz[\"x_\"])\n",
    "y_ = jnp.asarray(data_npz[\"y_\"])\n",
    "f_ = jnp.asarray(data_npz[\"f_\"])\n",
    "x = jnp.asarray(data_npz[\"x\"])\n",
    "y = jnp.asarray(data_npz[\"y\"])\n",
    "f = jnp.asarray(data_npz[\"f\"])\n",
    "\n",
    "data_info = {\"y_scale\": 1.}"
   ]
  },
  {
   "cell_type": "code",
   "execution_count": 4,
   "metadata": {},
   "outputs": [],
   "source": [
    "def inv_softplus(x):\n",
    "    return jnp.log(jnp.exp(x) - 1)\n",
    "\n",
    "# Noise in the data\n",
    "noise_std = 0.02\n",
    "invsp_noise_std = inv_softplus(noise_std)"
   ]
  },
  {
   "cell_type": "code",
   "execution_count": 5,
   "metadata": {
    "scrolled": true
   },
   "outputs": [
    {
     "data": {
      "text/plain": [
       "[<matplotlib.lines.Line2D at 0x7f5bc854bdc0>]"
      ]
     },
     "execution_count": 5,
     "metadata": {},
     "output_type": "execute_result"
    },
    {
     "data": {
      "image/png": "[encoded data removed]",
      "text/plain": [
       "<Figure size 432x288 with 1 Axes>"
      ]
     },
     "metadata": {
      "needs_background": "light"
     },
     "output_type": "display_data"
    }
   ],
   "source": [
    "plt.plot(x, y, \"bo\")\n",
    "plt.plot(x_, y_, \"-k\")"
   ]
  },
  {
   "cell_type": "code",
   "execution_count": 6,
   "metadata": {},
   "outputs": [],
   "source": [
    "num_devices = len(jax.devices())\n",
    "train_set = (f, y)\n",
    "test_set = (f_, y_)\n",
    "train_set = data_utils.pmap_dataset(train_set, num_devices)\n",
    "test_set = data_utils.pmap_dataset(test_set, num_devices)"
   ]
  },
  {
   "cell_type": "markdown",
   "metadata": {},
   "source": [
    "## Model"
   ]
  },
  {
   "cell_type": "code",
   "execution_count": 7,
   "metadata": {},
   "outputs": [],
   "source": [
    "def make_model(layer_dims, invsp_noise_std):\n",
    "    def forward(batch, is_training):\n",
    "        x, _ = batch\n",
    "        x = hk.Flatten()(x)\n",
    "        for layer_dim in layer_dims:\n",
    "            x = hk.Linear(layer_dim)(x)\n",
    "            x = jax.nn.relu(x)\n",
    "        x = hk.Linear(1)(x)\n",
    "        x = jnp.concatenate([x, jnp.ones_like(x) * invsp_noise_std], -1)\n",
    "        return x\n",
    "    return forward"
   ]
  },
  {
   "cell_type": "code",
   "execution_count": 8,
   "metadata": {},
   "outputs": [],
   "source": [
    "# net_fn = models.make_mlp_regression(data_info, output_dim=1, layer_dims=[100, 100, 100])\n",
    "net_fn = make_model(layer_dims=[100, 100, 100], invsp_noise_std=invsp_noise_std)\n",
    "net = hk.transform_with_state(net_fn)\n",
    "net_apply, net_init = net.apply, net.init\n",
    "net_apply = precision_utils.rewrite_high_precision(net_apply)"
   ]
  },
  {
   "cell_type": "code",
   "execution_count": 9,
   "metadata": {},
   "outputs": [],
   "source": [
    "# key, net_init_key = jax.random.split(jax.random.PRNGKey(0), 2)\n",
    "# start_iteration = 0\n",
    "# num_ensembled = 0\n",
    "# ensemble_predictions = None\n",
    "# step_size = 1.e-4"
   ]
  },
  {
   "cell_type": "code",
   "execution_count": 10,
   "metadata": {},
   "outputs": [],
   "source": [
    "def resample_params(seed, params, std=0.005):\n",
    "    key = jax.random.PRNGKey(seed)\n",
    "    num_leaves = len(jax.tree_leaves(params))\n",
    "    normal_keys = list(jax.random.split(key, num_leaves))\n",
    "    treedef = jax.tree_structure(params)\n",
    "    normal_keys = jax.tree_unflatten(treedef, normal_keys)\n",
    "    params = jax.tree_multimap(lambda p, k: jax.random.normal(k, p.shape) * std,\n",
    "                               params, normal_keys)\n",
    "    return params"
   ]
  },
  {
   "cell_type": "code",
   "execution_count": 11,
   "metadata": {},
   "outputs": [],
   "source": [
    "param_seed = 2\n",
    "params, net_state = net.init(jax.random.PRNGKey(param_seed), (f, None), True)\n",
    "params = resample_params(param_seed, params)\n",
    "net_state = jax.pmap(lambda _: net_state)(jnp.arange(num_devices))"
   ]
  },
  {
   "cell_type": "markdown",
   "metadata": {},
   "source": [
    "## Prior and likelihood"
   ]
  },
  {
   "cell_type": "code",
   "execution_count": 12,
   "metadata": {},
   "outputs": [],
   "source": [
    "prior_std = 0.1\n",
    "weight_decay = 1 / prior_std**2\n",
    "\n",
    "task = data_utils.Task(\"regression\")\n",
    "(likelihood_factory, predict_fn, ensemble_upd_fn, _,_) = train_utils.get_task_specific_fns(task, data_info)\n",
    "log_prior_fn, log_prior_diff_fn = losses.make_gaussian_log_prior(weight_decay, 1.)"
   ]
  },
  {
   "cell_type": "code",
   "execution_count": 13,
   "metadata": {},
   "outputs": [],
   "source": [
    "log_prior_fn, log_prior_diff_fn = (\n",
    "    losses.make_gaussian_log_prior(weight_decay, 1.))\n",
    "log_likelihood_fn = losses.make_gaussian_likelihood(1.)"
   ]
  },
  {
   "cell_type": "markdown",
   "metadata": {},
   "source": [
    "## HMC\n",
    "### HMC update"
   ]
  },
  {
   "cell_type": "code",
   "execution_count": 24,
   "metadata": {},
   "outputs": [
    {
     "name": "stdout",
     "output_type": "stream",
     "text": [
      "Leapfrog steps per iteration: 15708\n"
     ]
    }
   ],
   "source": [
    "step_size = 1e-5\n",
    "trajectory_len = jnp.pi / 2 / jnp.sqrt(weight_decay)\n",
    "max_num_leapfrog_steps = int(trajectory_len // step_size + 1)\n",
    "print(\"Leapfrog steps per iteration:\", max_num_leapfrog_steps)"
   ]
  },
  {
   "cell_type": "code",
   "execution_count": 25,
   "metadata": {},
   "outputs": [],
   "source": [
    "update, get_log_prob_and_grad = train_utils.make_hmc_update(\n",
    "    net_apply, log_likelihood_fn, log_prior_fn, log_prior_diff_fn,\n",
    "    max_num_leapfrog_steps, 1., 0.)"
   ]
  },
  {
   "cell_type": "code",
   "execution_count": 26,
   "metadata": {},
   "outputs": [],
   "source": [
    "# Initial log-prob and grad values\n",
    "log_prob, state_grad, log_likelihood, net_state = (\n",
    "    get_log_prob_and_grad(train_set, params, net_state))"
   ]
  },
  {
   "cell_type": "markdown",
   "metadata": {},
   "source": [
    "### Run HMC"
   ]
  },
  {
   "cell_type": "code",
   "execution_count": 28,
   "metadata": {},
   "outputs": [
    {
     "name": "stderr",
     "output_type": "stream",
     "text": [
      "  1%|          | 1/100 [00:04<07:47,  4.73s/it]"
     ]
    },
    {
     "name": "stdout",
     "output_type": "stream",
     "text": [
      "It: 0 \t Accept P: 0.44331416487693787 \t Accepted False \t Log-likelihood: -4750.1806640625\n"
     ]
    },
    {
     "name": "stderr",
     "output_type": "stream",
     "text": [
      "\r",
      "  2%|▏         | 2/100 [00:09<07:21,  4.50s/it]"
     ]
    },
    {
     "name": "stdout",
     "output_type": "stream",
     "text": [
      "It: 1 \t Accept P: 0.6106910705566406 \t Accepted True \t Log-likelihood: 288.75006103515625\n"
     ]
    },
    {
     "name": "stderr",
     "output_type": "stream",
     "text": [
      "\r",
      "  3%|▎         | 3/100 [00:13<07:04,  4.38s/it]"
     ]
    },
    {
     "name": "stdout",
     "output_type": "stream",
     "text": [
      "It: 2 \t Accept P: 0.6960702538490295 \t Accepted False \t Log-likelihood: 288.75006103515625\n"
     ]
    },
    {
     "name": "stderr",
     "output_type": "stream",
     "text": [
      "\r",
      "  4%|▍         | 4/100 [00:17<06:57,  4.35s/it]"
     ]
    },
    {
     "name": "stdout",
     "output_type": "stream",
     "text": [
      "It: 3 \t Accept P: 0.3969963788986206 \t Accepted False \t Log-likelihood: 288.75006103515625\n"
     ]
    },
    {
     "name": "stderr",
     "output_type": "stream",
     "text": [
      "\r",
      "  5%|▌         | 5/100 [00:21<06:51,  4.34s/it]"
     ]
    },
    {
     "name": "stdout",
     "output_type": "stream",
     "text": [
      "It: 4 \t Accept P: 0.5421000719070435 \t Accepted True \t Log-likelihood: 296.9173583984375\n"
     ]
    },
    {
     "name": "stderr",
     "output_type": "stream",
     "text": [
      "\r",
      "  6%|▌         | 6/100 [00:26<06:43,  4.29s/it]"
     ]
    },
    {
     "name": "stdout",
     "output_type": "stream",
     "text": [
      "It: 5 \t Accept P: 1.0 \t Accepted True \t Log-likelihood: 300.0396728515625\n"
     ]
    },
    {
     "name": "stderr",
     "output_type": "stream",
     "text": [
      "\r",
      "  7%|▋         | 7/100 [00:30<06:38,  4.28s/it]"
     ]
    },
    {
     "name": "stdout",
     "output_type": "stream",
     "text": [
      "It: 6 \t Accept P: 0.8234943747520447 \t Accepted True \t Log-likelihood: 304.6881408691406\n"
     ]
    },
    {
     "name": "stderr",
     "output_type": "stream",
     "text": [
      "\r",
      "  8%|▊         | 8/100 [00:34<06:34,  4.29s/it]"
     ]
    },
    {
     "name": "stdout",
     "output_type": "stream",
     "text": [
      "It: 7 \t Accept P: 0.7535507082939148 \t Accepted True \t Log-likelihood: 306.29449462890625\n"
     ]
    },
    {
     "name": "stderr",
     "output_type": "stream",
     "text": [
      "\r",
      "  9%|▉         | 9/100 [00:38<06:30,  4.29s/it]"
     ]
    },
    {
     "name": "stdout",
     "output_type": "stream",
     "text": [
      "It: 8 \t Accept P: 0.7557212710380554 \t Accepted True \t Log-likelihood: 300.27215576171875\n"
     ]
    },
    {
     "name": "stderr",
     "output_type": "stream",
     "text": [
      "\r",
      " 10%|█         | 10/100 [00:43<06:25,  4.28s/it]"
     ]
    },
    {
     "name": "stdout",
     "output_type": "stream",
     "text": [
      "It: 9 \t Accept P: 1.0 \t Accepted True \t Log-likelihood: 307.8955993652344\n"
     ]
    },
    {
     "name": "stderr",
     "output_type": "stream",
     "text": [
      "\r",
      " 11%|█         | 11/100 [00:47<06:20,  4.27s/it]"
     ]
    },
    {
     "name": "stdout",
     "output_type": "stream",
     "text": [
      "It: 10 \t Accept P: 1.0 \t Accepted True \t Log-likelihood: 305.6859130859375\n"
     ]
    },
    {
     "name": "stderr",
     "output_type": "stream",
     "text": [
      "\r",
      " 12%|█▏        | 12/100 [00:51<06:15,  4.26s/it]"
     ]
    },
    {
     "name": "stdout",
     "output_type": "stream",
     "text": [
      "It: 11 \t Accept P: 0.5808966755867004 \t Accepted True \t Log-likelihood: 301.56597900390625\n"
     ]
    },
    {
     "name": "stderr",
     "output_type": "stream",
     "text": [
      "\r",
      " 13%|█▎        | 13/100 [00:55<06:08,  4.24s/it]"
     ]
    },
    {
     "name": "stdout",
     "output_type": "stream",
     "text": [
      "It: 12 \t Accept P: 1.0 \t Accepted True \t Log-likelihood: 305.988037109375\n"
     ]
    },
    {
     "name": "stderr",
     "output_type": "stream",
     "text": [
      "\r",
      " 14%|█▍        | 14/100 [01:00<06:04,  4.23s/it]"
     ]
    },
    {
     "name": "stdout",
     "output_type": "stream",
     "text": [
      "It: 13 \t Accept P: 1.0 \t Accepted True \t Log-likelihood: 301.1233215332031\n"
     ]
    },
    {
     "name": "stderr",
     "output_type": "stream",
     "text": [
      "\r",
      " 15%|█▌        | 15/100 [01:04<05:59,  4.23s/it]"
     ]
    },
    {
     "name": "stdout",
     "output_type": "stream",
     "text": [
      "It: 14 \t Accept P: 1.0 \t Accepted True \t Log-likelihood: 304.947509765625\n"
     ]
    },
    {
     "name": "stderr",
     "output_type": "stream",
     "text": [
      "\r",
      " 16%|█▌        | 16/100 [01:08<05:55,  4.24s/it]"
     ]
    },
    {
     "name": "stdout",
     "output_type": "stream",
     "text": [
      "It: 15 \t Accept P: 0.6117991209030151 \t Accepted False \t Log-likelihood: 304.947509765625\n"
     ]
    },
    {
     "name": "stderr",
     "output_type": "stream",
     "text": [
      "\r",
      " 17%|█▋        | 17/100 [01:12<05:51,  4.24s/it]"
     ]
    },
    {
     "name": "stdout",
     "output_type": "stream",
     "text": [
      "It: 16 \t Accept P: 1.0 \t Accepted True \t Log-likelihood: 301.9200439453125\n"
     ]
    },
    {
     "name": "stderr",
     "output_type": "stream",
     "text": [
      "\r",
      " 18%|█▊        | 18/100 [01:17<05:47,  4.24s/it]"
     ]
    },
    {
     "name": "stdout",
     "output_type": "stream",
     "text": [
      "It: 17 \t Accept P: 0.6961286067962646 \t Accepted True \t Log-likelihood: 299.6227722167969\n"
     ]
    },
    {
     "name": "stderr",
     "output_type": "stream",
     "text": [
      "\r",
      " 19%|█▉        | 19/100 [01:21<05:43,  4.25s/it]"
     ]
    },
    {
     "name": "stdout",
     "output_type": "stream",
     "text": [
      "It: 18 \t Accept P: 1.0 \t Accepted True \t Log-likelihood: 298.88525390625\n"
     ]
    },
    {
     "name": "stderr",
     "output_type": "stream",
     "text": [
      "\r",
      " 20%|██        | 20/100 [01:25<05:38,  4.24s/it]"
     ]
    },
    {
     "name": "stdout",
     "output_type": "stream",
     "text": [
      "It: 19 \t Accept P: 0.564547061920166 \t Accepted True \t Log-likelihood: 305.3060302734375\n"
     ]
    },
    {
     "name": "stderr",
     "output_type": "stream",
     "text": [
      "\r",
      " 21%|██        | 21/100 [01:29<05:35,  4.24s/it]"
     ]
    },
    {
     "name": "stdout",
     "output_type": "stream",
     "text": [
      "It: 20 \t Accept P: 1.0 \t Accepted True \t Log-likelihood: 306.0487060546875\n"
     ]
    },
    {
     "name": "stderr",
     "output_type": "stream",
     "text": [
      "\r",
      " 22%|██▏       | 22/100 [01:34<05:30,  4.24s/it]"
     ]
    },
    {
     "name": "stdout",
     "output_type": "stream",
     "text": [
      "It: 21 \t Accept P: 1.0 \t Accepted True \t Log-likelihood: 304.29803466796875\n"
     ]
    },
    {
     "name": "stderr",
     "output_type": "stream",
     "text": [
      "\r",
      " 23%|██▎       | 23/100 [01:38<05:25,  4.23s/it]"
     ]
    },
    {
     "name": "stdout",
     "output_type": "stream",
     "text": [
      "It: 22 \t Accept P: 0.9317149519920349 \t Accepted True \t Log-likelihood: 306.2374267578125\n"
     ]
    },
    {
     "name": "stderr",
     "output_type": "stream",
     "text": [
      "\r",
      " 24%|██▍       | 24/100 [01:42<05:22,  4.24s/it]"
     ]
    },
    {
     "name": "stdout",
     "output_type": "stream",
     "text": [
      "It: 23 \t Accept P: 0.9963369965553284 \t Accepted True \t Log-likelihood: 307.23046875\n"
     ]
    },
    {
     "name": "stderr",
     "output_type": "stream",
     "text": [
      "\r",
      " 25%|██▌       | 25/100 [01:46<05:18,  4.24s/it]"
     ]
    },
    {
     "name": "stdout",
     "output_type": "stream",
     "text": [
      "It: 24 \t Accept P: 0.9574736952781677 \t Accepted True \t Log-likelihood: 304.567626953125\n"
     ]
    },
    {
     "name": "stderr",
     "output_type": "stream",
     "text": [
      "\r",
      " 26%|██▌       | 26/100 [01:50<05:13,  4.24s/it]"
     ]
    },
    {
     "name": "stdout",
     "output_type": "stream",
     "text": [
      "It: 25 \t Accept P: 1.0 \t Accepted True \t Log-likelihood: 301.8046875\n"
     ]
    },
    {
     "name": "stderr",
     "output_type": "stream",
     "text": [
      "\r",
      " 27%|██▋       | 27/100 [01:55<05:09,  4.23s/it]"
     ]
    },
    {
     "name": "stdout",
     "output_type": "stream",
     "text": [
      "It: 26 \t Accept P: 0.6117053031921387 \t Accepted True \t Log-likelihood: 305.7394104003906\n"
     ]
    },
    {
     "name": "stderr",
     "output_type": "stream",
     "text": [
      "\r",
      " 28%|██▊       | 28/100 [01:59<05:06,  4.25s/it]"
     ]
    },
    {
     "name": "stdout",
     "output_type": "stream",
     "text": [
      "It: 27 \t Accept P: 0.812774121761322 \t Accepted False \t Log-likelihood: 305.7394104003906\n"
     ]
    },
    {
     "name": "stderr",
     "output_type": "stream",
     "text": [
      "\r",
      " 29%|██▉       | 29/100 [02:03<05:00,  4.24s/it]"
     ]
    },
    {
     "name": "stdout",
     "output_type": "stream",
     "text": [
      "It: 28 \t Accept P: 0.844464898109436 \t Accepted True \t Log-likelihood: 302.2467041015625\n"
     ]
    },
    {
     "name": "stderr",
     "output_type": "stream",
     "text": [
      "\r",
      " 30%|███       | 30/100 [02:07<04:56,  4.23s/it]"
     ]
    },
    {
     "name": "stdout",
     "output_type": "stream",
     "text": [
      "It: 29 \t Accept P: 1.0 \t Accepted True \t Log-likelihood: 304.6074523925781\n"
     ]
    },
    {
     "name": "stderr",
     "output_type": "stream",
     "text": [
      "\r",
      " 31%|███       | 31/100 [02:12<04:53,  4.25s/it]"
     ]
    },
    {
     "name": "stdout",
     "output_type": "stream",
     "text": [
      "It: 30 \t Accept P: 1.0 \t Accepted True \t Log-likelihood: 303.765869140625\n"
     ]
    },
    {
     "name": "stderr",
     "output_type": "stream",
     "text": [
      "\r",
      " 32%|███▏      | 32/100 [02:16<04:48,  4.25s/it]"
     ]
    },
    {
     "name": "stdout",
     "output_type": "stream",
     "text": [
      "It: 31 \t Accept P: 0.8158897757530212 \t Accepted True \t Log-likelihood: 303.4247741699219\n"
     ]
    },
    {
     "name": "stderr",
     "output_type": "stream",
     "text": [
      "\r",
      " 33%|███▎      | 33/100 [02:20<04:44,  4.25s/it]"
     ]
    },
    {
     "name": "stdout",
     "output_type": "stream",
     "text": [
      "It: 32 \t Accept P: 0.8440139889717102 \t Accepted False \t Log-likelihood: 303.4247741699219\n"
     ]
    },
    {
     "name": "stderr",
     "output_type": "stream",
     "text": [
      "\r",
      " 34%|███▍      | 34/100 [02:24<04:40,  4.25s/it]"
     ]
    },
    {
     "name": "stdout",
     "output_type": "stream",
     "text": [
      "It: 33 \t Accept P: 1.0 \t Accepted True \t Log-likelihood: 305.3061828613281\n"
     ]
    },
    {
     "name": "stderr",
     "output_type": "stream",
     "text": [
      "\r",
      " 35%|███▌      | 35/100 [02:29<04:36,  4.25s/it]"
     ]
    },
    {
     "name": "stdout",
     "output_type": "stream",
     "text": [
      "It: 34 \t Accept P: 0.9191089868545532 \t Accepted True \t Log-likelihood: 305.9798583984375\n"
     ]
    },
    {
     "name": "stderr",
     "output_type": "stream",
     "text": [
      "\r",
      " 36%|███▌      | 36/100 [02:33<04:32,  4.26s/it]"
     ]
    },
    {
     "name": "stdout",
     "output_type": "stream",
     "text": [
      "It: 35 \t Accept P: 0.6415753960609436 \t Accepted True \t Log-likelihood: 303.8466796875\n"
     ]
    },
    {
     "name": "stderr",
     "output_type": "stream",
     "text": [
      "\r",
      " 37%|███▋      | 37/100 [02:37<04:28,  4.26s/it]"
     ]
    },
    {
     "name": "stdout",
     "output_type": "stream",
     "text": [
      "It: 36 \t Accept P: 1.0 \t Accepted True \t Log-likelihood: 305.57568359375\n"
     ]
    },
    {
     "name": "stderr",
     "output_type": "stream",
     "text": [
      "\r",
      " 38%|███▊      | 38/100 [02:42<04:24,  4.27s/it]"
     ]
    },
    {
     "name": "stdout",
     "output_type": "stream",
     "text": [
      "It: 37 \t Accept P: 0.8615147471427917 \t Accepted True \t Log-likelihood: 303.54656982421875\n"
     ]
    },
    {
     "name": "stderr",
     "output_type": "stream",
     "text": [
      "\r",
      " 39%|███▉      | 39/100 [02:46<04:20,  4.27s/it]"
     ]
    },
    {
     "name": "stdout",
     "output_type": "stream",
     "text": [
      "It: 38 \t Accept P: 0.7682256102561951 \t Accepted False \t Log-likelihood: 303.54656982421875\n"
     ]
    },
    {
     "name": "stderr",
     "output_type": "stream",
     "text": [
      "\r",
      " 40%|████      | 40/100 [02:50<04:14,  4.24s/it]"
     ]
    },
    {
     "name": "stdout",
     "output_type": "stream",
     "text": [
      "It: 39 \t Accept P: 0.9846616983413696 \t Accepted True \t Log-likelihood: 306.8083190917969\n"
     ]
    },
    {
     "name": "stderr",
     "output_type": "stream",
     "text": [
      "\r",
      " 41%|████      | 41/100 [02:54<04:10,  4.25s/it]"
     ]
    },
    {
     "name": "stdout",
     "output_type": "stream",
     "text": [
      "It: 40 \t Accept P: 1.0 \t Accepted True \t Log-likelihood: 302.1324157714844\n"
     ]
    },
    {
     "name": "stderr",
     "output_type": "stream",
     "text": [
      "\r",
      " 42%|████▏     | 42/100 [02:59<04:07,  4.27s/it]"
     ]
    },
    {
     "name": "stdout",
     "output_type": "stream",
     "text": [
      "It: 41 \t Accept P: 0.9805086255073547 \t Accepted True \t Log-likelihood: 307.1108093261719\n"
     ]
    },
    {
     "name": "stderr",
     "output_type": "stream",
     "text": [
      "\r",
      " 43%|████▎     | 43/100 [03:03<04:03,  4.28s/it]"
     ]
    },
    {
     "name": "stdout",
     "output_type": "stream",
     "text": [
      "It: 42 \t Accept P: 1.0 \t Accepted True \t Log-likelihood: 306.416015625\n"
     ]
    },
    {
     "name": "stderr",
     "output_type": "stream",
     "text": [
      "\r",
      " 44%|████▍     | 44/100 [03:07<03:59,  4.27s/it]"
     ]
    },
    {
     "name": "stdout",
     "output_type": "stream",
     "text": [
      "It: 43 \t Accept P: 1.0 \t Accepted True \t Log-likelihood: 305.84716796875\n"
     ]
    },
    {
     "name": "stderr",
     "output_type": "stream",
     "text": [
      "\r",
      " 45%|████▌     | 45/100 [03:11<03:55,  4.28s/it]"
     ]
    },
    {
     "name": "stdout",
     "output_type": "stream",
     "text": [
      "It: 44 \t Accept P: 1.0 \t Accepted True \t Log-likelihood: 305.4182434082031\n"
     ]
    },
    {
     "name": "stderr",
     "output_type": "stream",
     "text": [
      "\r",
      " 46%|████▌     | 46/100 [03:16<03:50,  4.27s/it]"
     ]
    },
    {
     "name": "stdout",
     "output_type": "stream",
     "text": [
      "It: 45 \t Accept P: 0.6943941116333008 \t Accepted True \t Log-likelihood: 302.2402648925781\n"
     ]
    },
    {
     "name": "stderr",
     "output_type": "stream",
     "text": [
      "\r",
      " 47%|████▋     | 47/100 [03:20<03:45,  4.26s/it]"
     ]
    },
    {
     "name": "stdout",
     "output_type": "stream",
     "text": [
      "It: 46 \t Accept P: 0.7107853293418884 \t Accepted True \t Log-likelihood: 306.53033447265625\n"
     ]
    },
    {
     "name": "stderr",
     "output_type": "stream",
     "text": [
      "\r",
      " 48%|████▊     | 48/100 [03:24<03:41,  4.27s/it]"
     ]
    },
    {
     "name": "stdout",
     "output_type": "stream",
     "text": [
      "It: 47 \t Accept P: 1.0 \t Accepted True \t Log-likelihood: 305.1146240234375\n"
     ]
    },
    {
     "name": "stderr",
     "output_type": "stream",
     "text": [
      "\r",
      " 49%|████▉     | 49/100 [03:28<03:37,  4.26s/it]"
     ]
    },
    {
     "name": "stdout",
     "output_type": "stream",
     "text": [
      "It: 48 \t Accept P: 1.0 \t Accepted True \t Log-likelihood: 305.091796875\n"
     ]
    },
    {
     "name": "stderr",
     "output_type": "stream",
     "text": [
      "\r",
      " 50%|█████     | 50/100 [03:33<03:32,  4.25s/it]"
     ]
    },
    {
     "name": "stdout",
     "output_type": "stream",
     "text": [
      "It: 49 \t Accept P: 0.8162633776664734 \t Accepted True \t Log-likelihood: 301.1991271972656\n"
     ]
    },
    {
     "name": "stderr",
     "output_type": "stream",
     "text": [
      "\r",
      " 51%|█████     | 51/100 [03:37<03:28,  4.25s/it]"
     ]
    },
    {
     "name": "stdout",
     "output_type": "stream",
     "text": [
      "It: 50 \t Accept P: 1.0 \t Accepted True \t Log-likelihood: 307.944091796875\n"
     ]
    },
    {
     "name": "stderr",
     "output_type": "stream",
     "text": [
      "\r",
      " 52%|█████▏    | 52/100 [03:41<03:24,  4.26s/it]"
     ]
    },
    {
     "name": "stdout",
     "output_type": "stream",
     "text": [
      "It: 51 \t Accept P: 1.0 \t Accepted True \t Log-likelihood: 298.5113220214844\n"
     ]
    },
    {
     "name": "stderr",
     "output_type": "stream",
     "text": [
      "\r",
      " 53%|█████▎    | 53/100 [03:45<03:20,  4.27s/it]"
     ]
    },
    {
     "name": "stdout",
     "output_type": "stream",
     "text": [
      "It: 52 \t Accept P: 0.7043505311012268 \t Accepted True \t Log-likelihood: 305.8555603027344\n"
     ]
    },
    {
     "name": "stderr",
     "output_type": "stream",
     "text": [
      "\r",
      " 54%|█████▍    | 54/100 [03:50<03:16,  4.27s/it]"
     ]
    },
    {
     "name": "stdout",
     "output_type": "stream",
     "text": [
      "It: 53 \t Accept P: 0.8012942671775818 \t Accepted False \t Log-likelihood: 305.8555603027344\n"
     ]
    },
    {
     "name": "stderr",
     "output_type": "stream",
     "text": [
      "\r",
      " 55%|█████▌    | 55/100 [03:54<03:10,  4.24s/it]"
     ]
    },
    {
     "name": "stdout",
     "output_type": "stream",
     "text": [
      "It: 54 \t Accept P: 1.0 \t Accepted True \t Log-likelihood: 304.7760009765625\n"
     ]
    },
    {
     "name": "stderr",
     "output_type": "stream",
     "text": [
      "\r",
      " 56%|█████▌    | 56/100 [03:58<03:06,  4.25s/it]"
     ]
    },
    {
     "name": "stdout",
     "output_type": "stream",
     "text": [
      "It: 55 \t Accept P: 0.6312505006790161 \t Accepted True \t Log-likelihood: 304.8714599609375\n"
     ]
    },
    {
     "name": "stderr",
     "output_type": "stream",
     "text": [
      "\r",
      " 57%|█████▋    | 57/100 [04:03<03:04,  4.29s/it]"
     ]
    },
    {
     "name": "stdout",
     "output_type": "stream",
     "text": [
      "It: 56 \t Accept P: 0.587206244468689 \t Accepted True \t Log-likelihood: 303.06591796875\n"
     ]
    },
    {
     "name": "stderr",
     "output_type": "stream",
     "text": [
      "\r",
      " 58%|█████▊    | 58/100 [04:07<03:01,  4.31s/it]"
     ]
    },
    {
     "name": "stdout",
     "output_type": "stream",
     "text": [
      "It: 57 \t Accept P: 1.0 \t Accepted True \t Log-likelihood: 304.20025634765625\n"
     ]
    },
    {
     "name": "stderr",
     "output_type": "stream",
     "text": [
      "\r",
      " 59%|█████▉    | 59/100 [04:11<02:56,  4.31s/it]"
     ]
    },
    {
     "name": "stdout",
     "output_type": "stream",
     "text": [
      "It: 58 \t Accept P: 1.0 \t Accepted True \t Log-likelihood: 304.043212890625\n"
     ]
    },
    {
     "name": "stderr",
     "output_type": "stream",
     "text": [
      "\r",
      " 60%|██████    | 60/100 [04:16<02:52,  4.31s/it]"
     ]
    },
    {
     "name": "stdout",
     "output_type": "stream",
     "text": [
      "It: 59 \t Accept P: 0.8979959487915039 \t Accepted True \t Log-likelihood: 307.18310546875\n"
     ]
    },
    {
     "name": "stderr",
     "output_type": "stream",
     "text": [
      "\r",
      " 61%|██████    | 61/100 [04:20<02:49,  4.34s/it]"
     ]
    },
    {
     "name": "stdout",
     "output_type": "stream",
     "text": [
      "It: 60 \t Accept P: 0.4929855465888977 \t Accepted True \t Log-likelihood: 305.50341796875\n"
     ]
    },
    {
     "name": "stderr",
     "output_type": "stream",
     "text": [
      "\r",
      " 62%|██████▏   | 62/100 [04:24<02:44,  4.32s/it]"
     ]
    },
    {
     "name": "stdout",
     "output_type": "stream",
     "text": [
      "It: 61 \t Accept P: 0.7391082048416138 \t Accepted True \t Log-likelihood: 306.798583984375\n"
     ]
    },
    {
     "name": "stderr",
     "output_type": "stream",
     "text": [
      "\r",
      " 63%|██████▎   | 63/100 [04:29<02:39,  4.32s/it]"
     ]
    },
    {
     "name": "stdout",
     "output_type": "stream",
     "text": [
      "It: 62 \t Accept P: 0.5848210453987122 \t Accepted False \t Log-likelihood: 306.798583984375\n"
     ]
    },
    {
     "name": "stderr",
     "output_type": "stream",
     "text": [
      "\r",
      " 64%|██████▍   | 64/100 [04:33<02:35,  4.31s/it]"
     ]
    },
    {
     "name": "stdout",
     "output_type": "stream",
     "text": [
      "It: 63 \t Accept P: 1.0 \t Accepted True \t Log-likelihood: 306.85125732421875\n"
     ]
    },
    {
     "name": "stderr",
     "output_type": "stream",
     "text": [
      "\r",
      " 65%|██████▌   | 65/100 [04:37<02:30,  4.31s/it]"
     ]
    },
    {
     "name": "stdout",
     "output_type": "stream",
     "text": [
      "It: 64 \t Accept P: 0.7779337167739868 \t Accepted True \t Log-likelihood: 306.869384765625\n"
     ]
    },
    {
     "name": "stderr",
     "output_type": "stream",
     "text": [
      "\r",
      " 66%|██████▌   | 66/100 [04:41<02:26,  4.30s/it]"
     ]
    },
    {
     "name": "stdout",
     "output_type": "stream",
     "text": [
      "It: 65 \t Accept P: 0.6985174417495728 \t Accepted True \t Log-likelihood: 306.8277587890625\n"
     ]
    },
    {
     "name": "stderr",
     "output_type": "stream",
     "text": [
      "\r",
      " 67%|██████▋   | 67/100 [04:46<02:21,  4.30s/it]"
     ]
    },
    {
     "name": "stdout",
     "output_type": "stream",
     "text": [
      "It: 66 \t Accept P: 0.6850748062133789 \t Accepted True \t Log-likelihood: 303.6003112792969\n"
     ]
    },
    {
     "name": "stderr",
     "output_type": "stream",
     "text": [
      "\r",
      " 68%|██████▊   | 68/100 [04:50<02:17,  4.30s/it]"
     ]
    },
    {
     "name": "stdout",
     "output_type": "stream",
     "text": [
      "It: 67 \t Accept P: 0.5190920829772949 \t Accepted False \t Log-likelihood: 303.6003112792969\n"
     ]
    },
    {
     "name": "stderr",
     "output_type": "stream",
     "text": [
      "\r",
      " 69%|██████▉   | 69/100 [04:54<02:13,  4.31s/it]"
     ]
    },
    {
     "name": "stdout",
     "output_type": "stream",
     "text": [
      "It: 68 \t Accept P: 0.755415678024292 \t Accepted True \t Log-likelihood: 303.3385314941406\n"
     ]
    },
    {
     "name": "stderr",
     "output_type": "stream",
     "text": [
      "\r",
      " 70%|███████   | 70/100 [04:59<02:09,  4.31s/it]"
     ]
    },
    {
     "name": "stdout",
     "output_type": "stream",
     "text": [
      "It: 69 \t Accept P: 1.0 \t Accepted True \t Log-likelihood: 305.12713623046875\n"
     ]
    },
    {
     "name": "stderr",
     "output_type": "stream",
     "text": [
      "\r",
      " 71%|███████   | 71/100 [05:03<02:04,  4.30s/it]"
     ]
    },
    {
     "name": "stdout",
     "output_type": "stream",
     "text": [
      "It: 70 \t Accept P: 0.6588325500488281 \t Accepted False \t Log-likelihood: 305.12713623046875\n"
     ]
    },
    {
     "name": "stderr",
     "output_type": "stream",
     "text": [
      "\r",
      " 72%|███████▏  | 72/100 [05:07<02:00,  4.32s/it]"
     ]
    },
    {
     "name": "stdout",
     "output_type": "stream",
     "text": [
      "It: 71 \t Accept P: 1.0 \t Accepted True \t Log-likelihood: 305.7940979003906\n"
     ]
    },
    {
     "name": "stderr",
     "output_type": "stream",
     "text": [
      "\r",
      " 73%|███████▎  | 73/100 [05:12<01:56,  4.31s/it]"
     ]
    },
    {
     "name": "stdout",
     "output_type": "stream",
     "text": [
      "It: 72 \t Accept P: 1.0 \t Accepted True \t Log-likelihood: 306.1658935546875\n"
     ]
    },
    {
     "name": "stderr",
     "output_type": "stream",
     "text": [
      "\r",
      " 74%|███████▍  | 74/100 [05:16<01:53,  4.37s/it]"
     ]
    },
    {
     "name": "stdout",
     "output_type": "stream",
     "text": [
      "It: 73 \t Accept P: 0.7336950302124023 \t Accepted True \t Log-likelihood: 302.37982177734375\n"
     ]
    },
    {
     "name": "stderr",
     "output_type": "stream",
     "text": [
      "\r",
      " 75%|███████▌  | 75/100 [05:20<01:48,  4.35s/it]"
     ]
    },
    {
     "name": "stdout",
     "output_type": "stream",
     "text": [
      "It: 74 \t Accept P: 1.0 \t Accepted True \t Log-likelihood: 306.50946044921875\n"
     ]
    },
    {
     "name": "stderr",
     "output_type": "stream",
     "text": [
      "\r",
      " 76%|███████▌  | 76/100 [05:25<01:43,  4.32s/it]"
     ]
    },
    {
     "name": "stdout",
     "output_type": "stream",
     "text": [
      "It: 75 \t Accept P: 0.8105417490005493 \t Accepted True \t Log-likelihood: 306.75286865234375\n"
     ]
    },
    {
     "name": "stderr",
     "output_type": "stream",
     "text": [
      "\r",
      " 77%|███████▋  | 77/100 [05:29<01:39,  4.31s/it]"
     ]
    },
    {
     "name": "stdout",
     "output_type": "stream",
     "text": [
      "It: 76 \t Accept P: 0.7997856736183167 \t Accepted False \t Log-likelihood: 306.75286865234375\n"
     ]
    },
    {
     "name": "stderr",
     "output_type": "stream",
     "text": [
      "\r",
      " 78%|███████▊  | 78/100 [05:33<01:34,  4.30s/it]"
     ]
    },
    {
     "name": "stdout",
     "output_type": "stream",
     "text": [
      "It: 77 \t Accept P: 1.0 \t Accepted True \t Log-likelihood: 302.4058837890625\n"
     ]
    },
    {
     "name": "stderr",
     "output_type": "stream",
     "text": [
      "\r",
      " 79%|███████▉  | 79/100 [05:38<01:30,  4.30s/it]"
     ]
    },
    {
     "name": "stdout",
     "output_type": "stream",
     "text": [
      "It: 78 \t Accept P: 0.3538023829460144 \t Accepted True \t Log-likelihood: 304.36431884765625\n"
     ]
    },
    {
     "name": "stderr",
     "output_type": "stream",
     "text": [
      "\r",
      " 80%|████████  | 80/100 [05:42<01:25,  4.29s/it]"
     ]
    },
    {
     "name": "stdout",
     "output_type": "stream",
     "text": [
      "It: 79 \t Accept P: 0.9218829870223999 \t Accepted False \t Log-likelihood: 304.36431884765625\n"
     ]
    },
    {
     "name": "stderr",
     "output_type": "stream",
     "text": [
      "\r",
      " 81%|████████  | 81/100 [05:46<01:22,  4.32s/it]"
     ]
    },
    {
     "name": "stdout",
     "output_type": "stream",
     "text": [
      "It: 80 \t Accept P: 1.0 \t Accepted True \t Log-likelihood: 307.56768798828125\n"
     ]
    },
    {
     "name": "stderr",
     "output_type": "stream",
     "text": [
      "\r",
      " 82%|████████▏ | 82/100 [05:51<01:17,  4.32s/it]"
     ]
    },
    {
     "name": "stdout",
     "output_type": "stream",
     "text": [
      "It: 81 \t Accept P: 1.0 \t Accepted True \t Log-likelihood: 305.87567138671875\n"
     ]
    },
    {
     "name": "stderr",
     "output_type": "stream",
     "text": [
      "\r",
      " 83%|████████▎ | 83/100 [05:55<01:13,  4.31s/it]"
     ]
    },
    {
     "name": "stdout",
     "output_type": "stream",
     "text": [
      "It: 82 \t Accept P: 0.801697850227356 \t Accepted True \t Log-likelihood: 305.25006103515625\n"
     ]
    },
    {
     "name": "stderr",
     "output_type": "stream",
     "text": [
      "\r",
      " 84%|████████▍ | 84/100 [05:59<01:08,  4.31s/it]"
     ]
    },
    {
     "name": "stdout",
     "output_type": "stream",
     "text": [
      "It: 83 \t Accept P: 0.664255678653717 \t Accepted False \t Log-likelihood: 305.25006103515625\n"
     ]
    },
    {
     "name": "stderr",
     "output_type": "stream",
     "text": [
      "\r",
      " 85%|████████▌ | 85/100 [06:03<01:04,  4.30s/it]"
     ]
    },
    {
     "name": "stdout",
     "output_type": "stream",
     "text": [
      "It: 84 \t Accept P: 0.9909999370574951 \t Accepted True \t Log-likelihood: 303.90130615234375\n"
     ]
    },
    {
     "name": "stderr",
     "output_type": "stream",
     "text": [
      "\r",
      " 86%|████████▌ | 86/100 [06:08<01:00,  4.29s/it]"
     ]
    },
    {
     "name": "stdout",
     "output_type": "stream",
     "text": [
      "It: 85 \t Accept P: 0.834811270236969 \t Accepted True \t Log-likelihood: 303.3831787109375\n"
     ]
    },
    {
     "name": "stderr",
     "output_type": "stream",
     "text": [
      "\r",
      " 87%|████████▋ | 87/100 [06:12<00:55,  4.29s/it]"
     ]
    },
    {
     "name": "stdout",
     "output_type": "stream",
     "text": [
      "It: 86 \t Accept P: 0.6714290976524353 \t Accepted False \t Log-likelihood: 303.3831787109375\n"
     ]
    },
    {
     "name": "stderr",
     "output_type": "stream",
     "text": [
      "\r",
      " 88%|████████▊ | 88/100 [06:16<00:51,  4.26s/it]"
     ]
    },
    {
     "name": "stdout",
     "output_type": "stream",
     "text": [
      "It: 87 \t Accept P: 0.8639897108078003 \t Accepted True \t Log-likelihood: 303.21063232421875\n"
     ]
    },
    {
     "name": "stderr",
     "output_type": "stream",
     "text": [
      "\r",
      " 89%|████████▉ | 89/100 [06:20<00:46,  4.27s/it]"
     ]
    },
    {
     "name": "stdout",
     "output_type": "stream",
     "text": [
      "It: 88 \t Accept P: 0.8214486837387085 \t Accepted False \t Log-likelihood: 303.21063232421875\n"
     ]
    },
    {
     "name": "stderr",
     "output_type": "stream",
     "text": [
      "\r",
      " 90%|█████████ | 90/100 [06:25<00:42,  4.27s/it]"
     ]
    },
    {
     "name": "stdout",
     "output_type": "stream",
     "text": [
      "It: 89 \t Accept P: 0.6487197279930115 \t Accepted True \t Log-likelihood: 304.1519775390625\n"
     ]
    },
    {
     "name": "stderr",
     "output_type": "stream",
     "text": [
      "\r",
      " 91%|█████████ | 91/100 [06:29<00:38,  4.28s/it]"
     ]
    },
    {
     "name": "stdout",
     "output_type": "stream",
     "text": [
      "It: 90 \t Accept P: 0.47215041518211365 \t Accepted True \t Log-likelihood: 302.0124816894531\n"
     ]
    },
    {
     "name": "stderr",
     "output_type": "stream",
     "text": [
      "\r",
      " 92%|█████████▏| 92/100 [06:33<00:34,  4.29s/it]"
     ]
    },
    {
     "name": "stdout",
     "output_type": "stream",
     "text": [
      "It: 91 \t Accept P: 1.0 \t Accepted True \t Log-likelihood: 303.7568359375\n"
     ]
    },
    {
     "name": "stderr",
     "output_type": "stream",
     "text": [
      "\r",
      " 93%|█████████▎| 93/100 [06:38<00:30,  4.31s/it]"
     ]
    },
    {
     "name": "stdout",
     "output_type": "stream",
     "text": [
      "It: 92 \t Accept P: 1.0 \t Accepted True \t Log-likelihood: 304.6117248535156\n"
     ]
    },
    {
     "name": "stderr",
     "output_type": "stream",
     "text": [
      "\r",
      " 94%|█████████▍| 94/100 [06:42<00:26,  4.38s/it]"
     ]
    },
    {
     "name": "stdout",
     "output_type": "stream",
     "text": [
      "It: 93 \t Accept P: 1.0 \t Accepted True \t Log-likelihood: 305.64404296875\n"
     ]
    },
    {
     "name": "stderr",
     "output_type": "stream",
     "text": [
      "\r",
      " 95%|█████████▌| 95/100 [06:47<00:21,  4.38s/it]"
     ]
    },
    {
     "name": "stdout",
     "output_type": "stream",
     "text": [
      "It: 94 \t Accept P: 0.7609615921974182 \t Accepted True \t Log-likelihood: 301.7269592285156\n"
     ]
    },
    {
     "name": "stderr",
     "output_type": "stream",
     "text": [
      "\r",
      " 96%|█████████▌| 96/100 [06:51<00:17,  4.38s/it]"
     ]
    },
    {
     "name": "stdout",
     "output_type": "stream",
     "text": [
      "It: 95 \t Accept P: 0.8278787732124329 \t Accepted False \t Log-likelihood: 301.7269592285156\n"
     ]
    },
    {
     "name": "stderr",
     "output_type": "stream",
     "text": [
      "\r",
      " 97%|█████████▋| 97/100 [06:55<00:13,  4.38s/it]"
     ]
    },
    {
     "name": "stdout",
     "output_type": "stream",
     "text": [
      "It: 96 \t Accept P: 0.9865039587020874 \t Accepted True \t Log-likelihood: 306.21209716796875\n"
     ]
    },
    {
     "name": "stderr",
     "output_type": "stream",
     "text": [
      "\r",
      " 98%|█████████▊| 98/100 [07:00<00:08,  4.37s/it]"
     ]
    },
    {
     "name": "stdout",
     "output_type": "stream",
     "text": [
      "It: 97 \t Accept P: 1.0 \t Accepted True \t Log-likelihood: 306.2794189453125\n"
     ]
    },
    {
     "name": "stderr",
     "output_type": "stream",
     "text": [
      "\r",
      " 99%|█████████▉| 99/100 [07:04<00:04,  4.37s/it]"
     ]
    },
    {
     "name": "stdout",
     "output_type": "stream",
     "text": [
      "It: 98 \t Accept P: 0.4154016077518463 \t Accepted True \t Log-likelihood: 306.2530212402344\n"
     ]
    },
    {
     "name": "stderr",
     "output_type": "stream",
     "text": [
      "100%|██████████| 100/100 [07:08<00:00,  4.29s/it]"
     ]
    },
    {
     "name": "stdout",
     "output_type": "stream",
     "text": [
      "It: 99 \t Accept P: 0.6763964295387268 \t Accepted False \t Log-likelihood: 306.2530212402344\n"
     ]
    },
    {
     "name": "stderr",
     "output_type": "stream",
     "text": [
      "\n"
     ]
    }
   ],
   "source": [
    "num_iterations = 100\n",
    "all_test_preds = []\n",
    "key = jax.random.PRNGKey(0)\n",
    "\n",
    "for iteration in tqdm.tqdm(range(num_iterations)):\n",
    "    \n",
    "#     in_burnin = (iteration < args.num_burn_in_iterations)\n",
    "#     do_mh_correction = (not args.no_mh) and (not in_burnin)\n",
    "\n",
    "    (params, net_state, log_likelihood, state_grad, step_size, key,\n",
    "     accept_prob, accepted) = (\n",
    "        update(train_set, params, net_state, log_likelihood, state_grad,\n",
    "               key, step_size, trajectory_len, True))\n",
    "    # Evaluation\n",
    "    test_predictions = onp.asarray(\n",
    "      predict_fn(net_apply, params, net_state, test_set))\n",
    "    if accepted:\n",
    "        all_test_preds.append(test_predictions)\n",
    "\n",
    "    print(\"It: {} \\t Accept P: {} \\t Accepted {} \\t Log-likelihood: {}\".format(\n",
    "            iteration, accept_prob, accepted, log_likelihood))"
   ]
  },
  {
   "cell_type": "code",
   "execution_count": 29,
   "metadata": {},
   "outputs": [
    {
     "data": {
      "image/png": "[encoded data removed]",
      "text/plain": [
       "<Figure size 432x288 with 1 Axes>"
      ]
     },
     "metadata": {
      "needs_background": "light"
     },
     "output_type": "display_data"
    }
   ],
   "source": [
    "for pred in all_test_preds[-5:]:\n",
    "    plt.plot(x_, pred[0, :, 0])"
   ]
  },
  {
   "cell_type": "code",
   "execution_count": 32,
   "metadata": {},
   "outputs": [],
   "source": [
    "preds_concat = onp.concatenate(all_test_preds, axis=0)\n",
    "# onp.save(\"synthreg_hmc_chain2.npy\", preds_concat)"
   ]
  },
  {
   "cell_type": "markdown",
   "metadata": {},
   "source": [
    "## SGLD"
   ]
  },
  {
   "cell_type": "code",
   "execution_count": 526,
   "metadata": {},
   "outputs": [],
   "source": [
    "from bnn_hmc.core import sgmcmc"
   ]
  },
  {
   "cell_type": "code",
   "execution_count": 527,
   "metadata": {},
   "outputs": [],
   "source": [
    "lr_schedule = train_utils.make_cosine_lr_schedule_with_burnin(3.e-8, 3.e-8, 1)\n",
    "optimizer = sgmcmc.sgld_gradient_update(lr_schedule, 0)"
   ]
  },
  {
   "cell_type": "code",
   "execution_count": 528,
   "metadata": {},
   "outputs": [],
   "source": [
    "param_seed = 0\n",
    "params, net_state = net.init(jax.random.PRNGKey(param_seed), (f, None), True)\n",
    "params = resample_params(param_seed, params, std=0.05)"
   ]
  },
  {
   "cell_type": "code",
   "execution_count": 529,
   "metadata": {},
   "outputs": [],
   "source": [
    "sgmcmc_train_epoch = train_utils.make_sgd_train_epoch(\n",
    "    net_apply, log_likelihood_fn, log_prior_fn, optimizer, num_batches=1)"
   ]
  },
  {
   "cell_type": "code",
   "execution_count": 530,
   "metadata": {},
   "outputs": [
    {
     "name": "stderr",
     "output_type": "stream",
     "text": [
      "100%|██████████| 100000/100000 [02:42<00:00, 615.98it/s]\n"
     ]
    }
   ],
   "source": [
    "num_iterations = 100000\n",
    "all_test_preds = []\n",
    "key = jax.random.PRNGKey(0)\n",
    "key = jax.random.split(key, num_devices)\n",
    "save_freq = 1000\n",
    "\n",
    "for iteration in tqdm.tqdm(range(num_iterations)):\n",
    "    params, net_state, opt_state, logprob_avg, key = sgmcmc_train_epoch(\n",
    "        params, net_state, opt_state, train_set, key)\n",
    "    if iteration % save_freq == 0:\n",
    "        test_predictions = onp.asarray(\n",
    "              predict_fn(net_apply, params, net_state, test_set))\n",
    "        all_test_preds.append(test_predictions)"
   ]
  },
  {
   "cell_type": "code",
   "execution_count": 531,
   "metadata": {},
   "outputs": [
    {
     "data": {
      "text/plain": [
       "[<matplotlib.lines.Line2D at 0x7f21c8689b50>]"
      ]
     },
     "execution_count": 531,
     "metadata": {},
     "output_type": "execute_result"
    },
    {
     "data": {
      "image/png": "[encoded data removed]",
      "text/plain": [
       "<Figure size 432x288 with 1 Axes>"
      ]
     },
     "metadata": {
      "needs_background": "light"
     },
     "output_type": "display_data"
    }
   ],
   "source": [
    "for pred in all_test_preds:#[::10][4:]:\n",
    "    plt.plot(x_, pred[0, :, 0])\n",
    "    \n",
    "plt.plot(x, y, \"ro\")"
   ]
  },
  {
   "cell_type": "code",
   "execution_count": 532,
   "metadata": {},
   "outputs": [],
   "source": [
    "preds_concat = onp.concatenate(all_test_preds, axis=0)\n",
    "# onp.save(\"synthreg_sgld3e8.npy\", preds_concat)"
   ]
  },
  {
   "cell_type": "markdown",
   "metadata": {},
   "source": [
    "## SGHMC"
   ]
  },
  {
   "cell_type": "code",
   "execution_count": 14,
   "metadata": {},
   "outputs": [],
   "source": [
    "from bnn_hmc.core import sgmcmc"
   ]
  },
  {
   "cell_type": "code",
   "execution_count": 15,
   "metadata": {},
   "outputs": [],
   "source": [
    "lr = 1.e-8\n",
    "mom = 0.95\n",
    "lr_schedule = train_utils.make_cosine_lr_schedule_with_burnin(lr, lr, 1)\n",
    "optimizer = sgmcmc.sghmc_gradient_update(lr_schedule, momentum_decay=mom, seed=0)"
   ]
  },
  {
   "cell_type": "code",
   "execution_count": 16,
   "metadata": {},
   "outputs": [],
   "source": [
    "param_seed = 0\n",
    "params, net_state = net.init(jax.random.PRNGKey(param_seed), (f, None), True)\n",
    "params = resample_params(param_seed, params, std=0.05)\n",
    "opt_state = optimizer.init(params)"
   ]
  },
  {
   "cell_type": "code",
   "execution_count": 17,
   "metadata": {},
   "outputs": [],
   "source": [
    "sgmcmc_train_epoch = train_utils.make_sgd_train_epoch(\n",
    "    net_apply, log_likelihood_fn, log_prior_fn, optimizer, num_batches=1)"
   ]
  },
  {
   "cell_type": "code",
   "execution_count": null,
   "metadata": {},
   "outputs": [
    {
     "name": "stderr",
     "output_type": "stream",
     "text": [
      " 44%|████▍     | 44399/100000 [01:45<02:12, 421.12it/s]"
     ]
    }
   ],
   "source": [
    "num_iterations = 100000\n",
    "all_test_preds = []\n",
    "key = jax.random.PRNGKey(0)\n",
    "key = jax.random.split(key, num_devices)\n",
    "save_freq = 1000\n",
    "\n",
    "for iteration in tqdm.tqdm(range(num_iterations)):\n",
    "    params, net_state, opt_state, logprob_avg, key = sgmcmc_train_epoch(\n",
    "        params, net_state, opt_state, train_set, key)\n",
    "    if iteration % save_freq == 0:\n",
    "        test_predictions = onp.asarray(\n",
    "              predict_fn(net_apply, params, net_state, test_set))\n",
    "        all_test_preds.append(test_predictions)"
   ]
  },
  {
   "cell_type": "code",
   "execution_count": null,
   "metadata": {},
   "outputs": [],
   "source": [
    "for pred in all_test_preds[2:]:#[::10][4:]:\n",
    "    plt.plot(x_, pred[0, :, 0])\n",
    "    \n",
    "plt.plot(x, y, \"ro\")"
   ]
  },
  {
   "cell_type": "code",
   "execution_count": null,
   "metadata": {},
   "outputs": [],
   "source": [
    "preds_concat = onp.concatenate(all_test_preds, axis=0)\n",
    "onp.save(\"synthreg_sghmc_lr{}_mom{}.npy\".format(lr, mom), preds_concat)"
   ]
  },
  {
   "cell_type": "markdown",
   "metadata": {},
   "source": [
    "## SGD"
   ]
  },
  {
   "cell_type": "code",
   "execution_count": 371,
   "metadata": {},
   "outputs": [],
   "source": [
    "# prior_std = .1\n",
    "# weight_decay = 1 / prior_std**2\n",
    "\n",
    "# log_prior_fn, log_prior_diff_fn = losses.make_gaussian_log_prior(weight_decay, 1.)"
   ]
  },
  {
   "cell_type": "code",
   "execution_count": 372,
   "metadata": {},
   "outputs": [],
   "source": [
    "num_iterations = 1000"
   ]
  },
  {
   "cell_type": "code",
   "execution_count": 373,
   "metadata": {},
   "outputs": [],
   "source": [
    "lr_schedule = train_utils.make_cosine_lr_schedule(1e-7, num_iterations)\n",
    "optimizer = train_utils.make_optimizer(lr_schedule, momentum_decay=0.9)"
   ]
  },
  {
   "cell_type": "code",
   "execution_count": 374,
   "metadata": {},
   "outputs": [],
   "source": [
    "sgd_train_epoch = train_utils.make_sgd_train_epoch(\n",
    "    net_apply, log_likelihood_fn, log_prior_fn, optimizer, num_batches=1)"
   ]
  },
  {
   "cell_type": "code",
   "execution_count": 375,
   "metadata": {},
   "outputs": [],
   "source": [
    "param_seed = 2\n",
    "params, net_state = net.init(jax.random.PRNGKey(param_seed), (f, None), True)\n",
    "params = resample_params(param_seed, params, std=0.05)\n",
    "net_state = jax.pmap(lambda _: net_state)(jnp.arange(num_devices))\n",
    "opt_state = optimizer.init(params)"
   ]
  },
  {
   "cell_type": "code",
   "execution_count": 376,
   "metadata": {},
   "outputs": [
    {
     "name": "stderr",
     "output_type": "stream",
     "text": [
      "  5%|▍         | 46/1000 [00:00<00:10, 92.86it/s]"
     ]
    },
    {
     "name": "stdout",
     "output_type": "stream",
     "text": [
      "-42132.266\n",
      "-69207.34\n",
      "-39059.12\n",
      "-44984.65\n",
      "-33852.254\n",
      "-36981.2\n",
      "-34095.74\n",
      "-36018.16\n",
      "-33623.246\n",
      "-35275.406\n",
      "-33438.445\n",
      "-34883.055\n",
      "-33329.695\n",
      "-34280.016\n",
      "-33156.676\n",
      "-33928.324\n",
      "-32973.402\n",
      "-33481.41\n",
      "-32766.932\n",
      "-33226.324\n",
      "-32655.604\n",
      "-32933.16\n",
      "-32584.258\n",
      "-32775.664\n",
      "-32493.803\n",
      "-32525.832\n",
      "-32451.256\n",
      "-32276.709\n",
      "-32382.936\n",
      "-32134.414\n",
      "-32102.377\n",
      "-32138.74\n",
      "-31922.848\n",
      "-31781.99\n",
      "-31825.934\n",
      "-31867.35\n",
      "-31833.234\n",
      "-31822.922\n",
      "-32028.758\n",
      "-33586.73\n",
      "-40673.348\n",
      "-72470.695\n",
      "-78850.234\n",
      "-33390.508\n",
      "-42075.266\n",
      "-38291.508\n",
      "-33694.75\n",
      "-37469.14\n",
      "-37184.035\n",
      "-33688.375\n",
      "-34274.633\n",
      "-36430.07\n",
      "-34847.34\n",
      "-33588.746\n",
      "-33593.32\n",
      "-33919.797\n",
      "-33998.18\n",
      "-33775.64\n",
      "-33588.77\n",
      "-33613.273\n",
      "-33696.773\n",
      "-33623.01\n",
      "-33448.99\n",
      "-33349.49\n",
      "-33362.27\n",
      "-33364.297\n",
      "-33284.027\n",
      "-33195.55\n",
      "-33183.496\n",
      "-33213.51\n",
      "-33190.47\n",
      "-33110.703\n",
      "-33054.863\n",
      "-33050.477\n",
      "-33047.223\n",
      "-32995.336\n",
      "-32925.305\n",
      "-32892.44\n",
      "-32882.625\n",
      "-32846.203\n",
      "-32783.594\n",
      "-32742.89\n",
      "-32724.852\n",
      "-32684.693\n",
      "-32623.152\n",
      "-32583.99\n",
      "-32553.117\n",
      "-32496.152\n",
      "-32437.402\n",
      "-32398.506\n",
      "-32344.592\n",
      "-32279.305\n",
      "-32233.895\n"
     ]
    },
    {
     "name": "stderr",
     "output_type": "stream",
     "text": [
      " 14%|█▍        | 139/1000 [00:00<00:03, 244.54it/s]"
     ]
    },
    {
     "name": "stdout",
     "output_type": "stream",
     "text": [
      "-32176.926\n",
      "-32109.055\n",
      "-32058.834\n",
      "-31991.527\n",
      "-31929.904\n",
      "-31871.129\n",
      "-31799.357\n",
      "-31742.805\n",
      "-31669.482\n",
      "-31612.807\n",
      "-31541.797\n",
      "-31487.076\n",
      "-31422.764\n",
      "-31367.055\n",
      "-31305.086\n",
      "-31252.021\n",
      "-31201.66\n",
      "-31153.742\n",
      "-31112.143\n",
      "-31069.398\n",
      "-31029.502\n",
      "-30995.713\n",
      "-30963.637\n",
      "-30933.094\n",
      "-30907.008\n",
      "-30886.125\n",
      "-30869.443\n",
      "-30856.238\n",
      "-30847.102\n",
      "-30845.605\n",
      "-30862.287\n",
      "-30941.014\n",
      "-31243.88\n",
      "-32351.404\n",
      "-36809.777\n",
      "-50300.31\n",
      "-53267.83\n",
      "-31576.924\n",
      "-38307.137\n",
      "-35109.28\n",
      "-32507.469\n",
      "-33067.98\n",
      "-33816.613\n",
      "-33735.113\n",
      "-33037.02\n",
      "-32886.875\n",
      "-33137.305\n",
      "-33027.05\n",
      "-32679.383\n",
      "-32690.445\n",
      "-32793.79\n",
      "-32644.91\n",
      "-32515.977\n",
      "-32555.168\n",
      "-32467.078\n",
      "-32305.982\n",
      "-32301.547\n",
      "-32267.799\n",
      "-32128.393\n",
      "-32101.176\n",
      "-32045.29\n",
      "-31903.963\n",
      "-31874.598\n",
      "-31758.766\n",
      "-31677.73\n",
      "-31620.62\n",
      "-31493.424\n",
      "-31471.432\n",
      "-31339.889\n",
      "-31330.621\n",
      "-31214.68\n",
      "-31208.312\n",
      "-31118.094\n",
      "-31105.02\n",
      "-31033.744\n",
      "-30977.174\n",
      "-30978.86\n",
      "-30907.957\n",
      "-30894.584\n",
      "-30895.63\n",
      "-30845.28\n",
      "-30823.854\n",
      "-30837.875\n",
      "-30826.79\n",
      "-30794.436\n",
      "-30780.45\n",
      "-30790.342\n",
      "-30799.691\n",
      "-30793.5\n",
      "-30777.354\n",
      "-30763.695\n",
      "-30760.4\n",
      "-30766.262\n"
     ]
    },
    {
     "name": "stderr",
     "output_type": "stream",
     "text": [
      " 23%|██▎       | 233/1000 [00:01<00:02, 344.68it/s]"
     ]
    },
    {
     "name": "stdout",
     "output_type": "stream",
     "text": [
      "-30774.924\n",
      "-30780.568\n",
      "-30779.537\n",
      "-30774.213\n",
      "-30767.406\n",
      "-30763.26\n",
      "-30763.209\n",
      "-30766.13\n",
      "-30769.37\n",
      "-30770.275\n",
      "-30768.23\n",
      "-30763.95\n",
      "-30759.87\n",
      "-30757.438\n",
      "-30756.842\n",
      "-30757.107\n",
      "-30756.936\n",
      "-30755.568\n",
      "-30753.125\n",
      "-30750.83\n",
      "-30748.88\n",
      "-30748.133\n",
      "-30748.2\n",
      "-30748.086\n",
      "-30747.268\n",
      "-30745.848\n",
      "-30744.732\n",
      "-30744.377\n",
      "-30744.361\n",
      "-30743.98\n",
      "-30743.102\n",
      "-30742.223\n",
      "-30741.773\n",
      "-30741.594\n",
      "-30741.236\n",
      "-30740.557\n",
      "-30739.852\n",
      "-30739.408\n",
      "-30739.129\n",
      "-30738.742\n",
      "-30738.162\n",
      "-30737.586\n",
      "-30737.168\n",
      "-30736.83\n",
      "-30736.396\n",
      "-30735.85\n",
      "-30735.336\n",
      "-30734.928\n",
      "-30734.531\n",
      "-30734.057\n",
      "-30733.545\n",
      "-30733.078\n",
      "-30732.666\n",
      "-30732.234\n",
      "-30731.754\n",
      "-30731.273\n",
      "-30730.832\n",
      "-30730.412\n",
      "-30729.967\n",
      "-30729.5\n",
      "-30729.05\n",
      "-30728.623\n",
      "-30728.195\n",
      "-30727.75\n",
      "-30727.303\n",
      "-30726.871\n",
      "-30726.445\n",
      "-30726.01\n",
      "-30725.572\n",
      "-30725.139\n",
      "-30724.717\n",
      "-30724.291\n",
      "-30723.861\n",
      "-30723.434\n",
      "-30723.014\n",
      "-30722.594\n",
      "-30722.17\n",
      "-30721.746\n",
      "-30721.328\n",
      "-30720.908\n",
      "-30720.488\n",
      "-30720.066\n",
      "-30719.65\n",
      "-30719.232\n",
      "-30718.816\n",
      "-30718.4\n",
      "-30717.988\n",
      "-30717.574\n",
      "-30717.158\n",
      "-30716.746\n",
      "-30716.334\n",
      "-30715.924\n",
      "-30715.514\n"
     ]
    },
    {
     "name": "stderr",
     "output_type": "stream",
     "text": [
      " 33%|███▎      | 328/1000 [00:01<00:01, 404.76it/s]"
     ]
    },
    {
     "name": "stdout",
     "output_type": "stream",
     "text": [
      "-30715.104\n",
      "-30714.693\n",
      "-30714.285\n",
      "-30713.879\n",
      "-30713.47\n",
      "-30713.064\n",
      "-30712.658\n",
      "-30712.256\n",
      "-30711.85\n",
      "-30711.445\n",
      "-30711.043\n",
      "-30710.643\n",
      "-30710.24\n",
      "-30709.838\n",
      "-30709.438\n",
      "-30709.04\n",
      "-30708.64\n",
      "-30708.242\n",
      "-30707.844\n",
      "-30707.45\n",
      "-30707.053\n",
      "-30706.656\n",
      "-30706.264\n",
      "-30705.87\n",
      "-30705.477\n",
      "-30705.086\n",
      "-30704.693\n",
      "-30704.3\n",
      "-30703.91\n",
      "-30703.521\n",
      "-30703.133\n",
      "-30702.744\n",
      "-30702.355\n",
      "-30701.97\n",
      "-30701.584\n",
      "-30701.2\n",
      "-30700.814\n",
      "-30700.43\n",
      "-30700.047\n",
      "-30699.664\n",
      "-30699.281\n",
      "-30698.902\n",
      "-30698.521\n",
      "-30698.14\n",
      "-30697.762\n",
      "-30697.385\n",
      "-30697.008\n",
      "-30696.63\n",
      "-30696.256\n",
      "-30695.879\n",
      "-30695.504\n",
      "-30695.13\n",
      "-30694.758\n",
      "-30694.385\n",
      "-30694.014\n",
      "-30693.645\n",
      "-30693.271\n",
      "-30692.902\n",
      "-30692.535\n",
      "-30692.166\n",
      "-30691.799\n",
      "-30691.434\n",
      "-30691.066\n",
      "-30690.701\n",
      "-30690.338\n",
      "-30689.975\n",
      "-30689.611\n",
      "-30689.25\n",
      "-30688.889\n",
      "-30688.527\n",
      "-30688.168\n",
      "-30687.809\n",
      "-30687.45\n",
      "-30687.092\n",
      "-30686.734\n",
      "-30686.379\n",
      "-30686.023\n",
      "-30685.668\n",
      "-30685.314\n",
      "-30684.96\n",
      "-30684.61\n",
      "-30684.256\n",
      "-30683.906\n",
      "-30683.557\n",
      "-30683.207\n",
      "-30682.857\n",
      "-30682.51\n",
      "-30682.164\n",
      "-30681.816\n",
      "-30681.473\n",
      "-30681.127\n",
      "-30680.781\n",
      "-30680.44\n",
      "-30680.096\n",
      "-30679.756\n"
     ]
    },
    {
     "name": "stderr",
     "output_type": "stream",
     "text": [
      " 42%|████▏     | 423/1000 [00:01<00:01, 433.04it/s]"
     ]
    },
    {
     "name": "stdout",
     "output_type": "stream",
     "text": [
      "-30679.414\n",
      "-30679.074\n",
      "-30678.732\n",
      "-30678.396\n",
      "-30678.057\n",
      "-30677.72\n",
      "-30677.383\n",
      "-30677.049\n",
      "-30676.715\n",
      "-30676.379\n",
      "-30676.047\n",
      "-30675.717\n",
      "-30675.383\n",
      "-30675.053\n",
      "-30674.725\n",
      "-30674.393\n",
      "-30674.066\n",
      "-30673.738\n",
      "-30673.41\n",
      "-30673.084\n",
      "-30672.76\n",
      "-30672.436\n",
      "-30672.111\n",
      "-30671.79\n",
      "-30671.465\n",
      "-30671.145\n",
      "-30670.824\n",
      "-30670.504\n",
      "-30670.186\n",
      "-30669.865\n",
      "-30669.549\n",
      "-30669.232\n",
      "-30668.914\n",
      "-30668.6\n",
      "-30668.287\n",
      "-30667.97\n",
      "-30667.658\n",
      "-30667.348\n",
      "-30667.035\n",
      "-30666.725\n",
      "-30666.416\n",
      "-30666.105\n",
      "-30665.797\n",
      "-30665.49\n",
      "-30665.184\n",
      "-30664.877\n",
      "-30664.572\n",
      "-30664.27\n",
      "-30663.965\n",
      "-30663.662\n",
      "-30663.36\n",
      "-30663.059\n",
      "-30662.758\n",
      "-30662.459\n",
      "-30662.16\n",
      "-30661.861\n",
      "-30661.564\n",
      "-30661.268\n",
      "-30660.97\n",
      "-30660.676\n",
      "-30660.383\n",
      "-30660.088\n",
      "-30659.797\n",
      "-30659.506\n",
      "-30659.215\n",
      "-30658.922\n",
      "-30658.633\n",
      "-30658.346\n",
      "-30658.057\n",
      "-30657.77\n",
      "-30657.484\n",
      "-30657.2\n",
      "-30656.912\n",
      "-30656.629\n",
      "-30656.348\n",
      "-30656.062\n",
      "-30655.781\n",
      "-30655.502\n",
      "-30655.22\n",
      "-30654.941\n",
      "-30654.664\n",
      "-30654.387\n",
      "-30654.107\n",
      "-30653.832\n",
      "-30653.557\n",
      "-30653.281\n",
      "-30653.008\n",
      "-30652.736\n",
      "-30652.465\n",
      "-30652.191\n",
      "-30651.922\n"
     ]
    },
    {
     "name": "stderr",
     "output_type": "stream",
     "text": [
      " 52%|█████▏    | 518/1000 [00:01<00:01, 451.55it/s]"
     ]
    },
    {
     "name": "stdout",
     "output_type": "stream",
     "text": [
      "-30651.652\n",
      "-30651.38\n",
      "-30651.113\n",
      "-30650.848\n",
      "-30650.58\n",
      "-30650.312\n",
      "-30650.049\n",
      "-30649.785\n",
      "-30649.52\n",
      "-30649.258\n",
      "-30648.996\n",
      "-30648.736\n",
      "-30648.475\n",
      "-30648.215\n",
      "-30647.957\n",
      "-30647.7\n",
      "-30647.44\n",
      "-30647.184\n",
      "-30646.93\n",
      "-30646.676\n",
      "-30646.42\n",
      "-30646.166\n",
      "-30645.914\n",
      "-30645.662\n",
      "-30645.41\n",
      "-30645.162\n",
      "-30644.912\n",
      "-30644.662\n",
      "-30644.416\n",
      "-30644.17\n",
      "-30643.922\n",
      "-30643.676\n",
      "-30643.432\n",
      "-30643.19\n",
      "-30642.943\n",
      "-30642.703\n",
      "-30642.46\n",
      "-30642.22\n",
      "-30641.98\n",
      "-30641.742\n",
      "-30641.504\n",
      "-30641.268\n",
      "-30641.03\n",
      "-30640.793\n",
      "-30640.559\n",
      "-30640.324\n",
      "-30640.09\n",
      "-30639.857\n",
      "-30639.625\n",
      "-30639.393\n",
      "-30639.162\n",
      "-30638.934\n",
      "-30638.705\n",
      "-30638.475\n",
      "-30638.248\n",
      "-30638.021\n",
      "-30637.797\n",
      "-30637.568\n",
      "-30637.346\n",
      "-30637.123\n",
      "-30636.9\n",
      "-30636.678\n",
      "-30636.457\n",
      "-30636.236\n",
      "-30636.018\n",
      "-30635.797\n",
      "-30635.58\n",
      "-30635.361\n",
      "-30635.146\n",
      "-30634.93\n",
      "-30634.715\n",
      "-30634.5\n",
      "-30634.287\n",
      "-30634.074\n",
      "-30633.861\n",
      "-30633.65\n",
      "-30633.441\n",
      "-30633.232\n",
      "-30633.023\n",
      "-30632.812\n",
      "-30632.605\n",
      "-30632.4\n",
      "-30632.195\n",
      "-30631.99\n",
      "-30631.783\n",
      "-30631.58\n",
      "-30631.379\n",
      "-30631.178\n",
      "-30630.975\n",
      "-30630.773\n",
      "-30630.574\n",
      "-30630.377\n",
      "-30630.18\n",
      "-30629.98\n",
      "-30629.783\n",
      "-30629.588\n",
      "-30629.393\n",
      "-30629.2\n",
      "-30629.006\n"
     ]
    },
    {
     "name": "stderr",
     "output_type": "stream",
     "text": [
      " 62%|██████▏   | 616/1000 [00:01<00:00, 464.90it/s]"
     ]
    },
    {
     "name": "stdout",
     "output_type": "stream",
     "text": [
      "-30628.81\n",
      "-30628.62\n",
      "-30628.43\n",
      "-30628.238\n",
      "-30628.049\n",
      "-30627.857\n",
      "-30627.67\n",
      "-30627.482\n",
      "-30627.297\n",
      "-30627.111\n",
      "-30626.926\n",
      "-30626.74\n",
      "-30626.557\n",
      "-30626.373\n",
      "-30626.191\n",
      "-30626.01\n",
      "-30625.828\n",
      "-30625.646\n",
      "-30625.469\n",
      "-30625.291\n",
      "-30625.113\n",
      "-30624.936\n",
      "-30624.758\n",
      "-30624.582\n",
      "-30624.408\n",
      "-30624.234\n",
      "-30624.06\n",
      "-30623.889\n",
      "-30623.715\n",
      "-30623.545\n",
      "-30623.373\n",
      "-30623.205\n",
      "-30623.035\n",
      "-30622.867\n",
      "-30622.697\n",
      "-30622.531\n",
      "-30622.365\n",
      "-30622.201\n",
      "-30622.035\n",
      "-30621.873\n",
      "-30621.707\n",
      "-30621.545\n",
      "-30621.385\n",
      "-30621.223\n",
      "-30621.062\n",
      "-30620.904\n",
      "-30620.742\n",
      "-30620.586\n",
      "-30620.428\n",
      "-30620.271\n",
      "-30620.115\n",
      "-30619.96\n",
      "-30619.805\n",
      "-30619.65\n",
      "-30619.498\n",
      "-30619.346\n",
      "-30619.193\n",
      "-30619.043\n",
      "-30618.893\n",
      "-30618.742\n",
      "-30618.594\n",
      "-30618.445\n",
      "-30618.299\n",
      "-30618.152\n",
      "-30618.006\n",
      "-30617.861\n",
      "-30617.715\n",
      "-30617.57\n",
      "-30617.428\n",
      "-30617.285\n",
      "-30617.143\n",
      "-30617.002\n",
      "-30616.861\n",
      "-30616.72\n",
      "-30616.582\n",
      "-30616.443\n",
      "-30616.305\n",
      "-30616.168\n",
      "-30616.033\n",
      "-30615.896\n",
      "-30615.76\n",
      "-30615.627\n",
      "-30615.492\n",
      "-30615.36\n",
      "-30615.229\n",
      "-30615.096\n",
      "-30614.967\n",
      "-30614.834\n",
      "-30614.705\n",
      "-30614.576\n",
      "-30614.447\n",
      "-30614.32\n",
      "-30614.193\n",
      "-30614.068\n",
      "-30613.941\n",
      "-30613.814\n"
     ]
    },
    {
     "name": "stderr",
     "output_type": "stream",
     "text": [
      " 71%|███████   | 712/1000 [00:02<00:00, 471.15it/s]"
     ]
    },
    {
     "name": "stdout",
     "output_type": "stream",
     "text": [
      "-30613.691\n",
      "-30613.568\n",
      "-30613.445\n",
      "-30613.324\n",
      "-30613.201\n",
      "-30613.082\n",
      "-30612.959\n",
      "-30612.84\n",
      "-30612.72\n",
      "-30612.604\n",
      "-30612.486\n",
      "-30612.37\n",
      "-30612.252\n",
      "-30612.137\n",
      "-30612.02\n",
      "-30611.906\n",
      "-30611.791\n",
      "-30611.678\n",
      "-30611.566\n",
      "-30611.455\n",
      "-30611.344\n",
      "-30611.234\n",
      "-30611.121\n",
      "-30611.014\n",
      "-30610.904\n",
      "-30610.797\n",
      "-30610.69\n",
      "-30610.582\n",
      "-30610.477\n",
      "-30610.371\n",
      "-30610.266\n",
      "-30610.16\n",
      "-30610.057\n",
      "-30609.955\n",
      "-30609.852\n",
      "-30609.75\n",
      "-30609.65\n",
      "-30609.549\n",
      "-30609.45\n",
      "-30609.35\n",
      "-30609.25\n",
      "-30609.152\n",
      "-30609.055\n",
      "-30608.957\n",
      "-30608.861\n",
      "-30608.766\n",
      "-30608.67\n",
      "-30608.576\n",
      "-30608.482\n",
      "-30608.39\n",
      "-30608.295\n",
      "-30608.203\n",
      "-30608.111\n",
      "-30608.021\n",
      "-30607.932\n",
      "-30607.842\n",
      "-30607.752\n",
      "-30607.664\n",
      "-30607.576\n",
      "-30607.488\n",
      "-30607.402\n",
      "-30607.314\n",
      "-30607.229\n",
      "-30607.145\n",
      "-30607.059\n",
      "-30606.977\n",
      "-30606.893\n",
      "-30606.809\n",
      "-30606.727\n",
      "-30606.646\n",
      "-30606.564\n",
      "-30606.484\n",
      "-30606.404\n",
      "-30606.326\n",
      "-30606.244\n",
      "-30606.166\n",
      "-30606.09\n",
      "-30606.012\n",
      "-30605.936\n",
      "-30605.86\n",
      "-30605.783\n",
      "-30605.709\n",
      "-30605.635\n",
      "-30605.56\n",
      "-30605.488\n",
      "-30605.416\n",
      "-30605.344\n",
      "-30605.271\n",
      "-30605.201\n",
      "-30605.129\n"
     ]
    },
    {
     "name": "stderr",
     "output_type": "stream",
     "text": [
      " 81%|████████  | 810/1000 [00:02<00:00, 464.10it/s]"
     ]
    },
    {
     "name": "stdout",
     "output_type": "stream",
     "text": [
      "-30605.059\n",
      "-30604.988\n",
      "-30604.92\n",
      "-30604.852\n",
      "-30604.783\n",
      "-30604.715\n",
      "-30604.648\n",
      "-30604.584\n",
      "-30604.518\n",
      "-30604.451\n",
      "-30604.387\n",
      "-30604.322\n",
      "-30604.26\n",
      "-30604.195\n",
      "-30604.133\n",
      "-30604.07\n",
      "-30604.008\n",
      "-30603.945\n",
      "-30603.885\n",
      "-30603.824\n",
      "-30603.766\n",
      "-30603.705\n",
      "-30603.646\n",
      "-30603.59\n",
      "-30603.531\n",
      "-30603.475\n",
      "-30603.418\n",
      "-30603.361\n",
      "-30603.305\n",
      "-30603.25\n",
      "-30603.195\n",
      "-30603.14\n",
      "-30603.086\n",
      "-30603.033\n",
      "-30602.98\n",
      "-30602.926\n",
      "-30602.875\n",
      "-30602.822\n",
      "-30602.771\n",
      "-30602.72\n",
      "-30602.67\n",
      "-30602.621\n",
      "-30602.57\n",
      "-30602.523\n",
      "-30602.475\n",
      "-30602.426\n",
      "-30602.379\n",
      "-30602.332\n",
      "-30602.285\n",
      "-30602.238\n",
      "-30602.193\n",
      "-30602.148\n",
      "-30602.104\n",
      "-30602.059\n",
      "-30602.016\n",
      "-30601.97\n",
      "-30601.928\n",
      "-30601.887\n",
      "-30601.844\n",
      "-30601.799\n",
      "-30601.758\n",
      "-30601.717\n",
      "-30601.678\n",
      "-30601.637\n",
      "-30601.598\n",
      "-30601.559\n",
      "-30601.52\n",
      "-30601.48\n",
      "-30601.443\n",
      "-30601.404\n",
      "-30601.367\n",
      "-30601.33\n",
      "-30601.295\n",
      "-30601.258\n",
      "-30601.223\n",
      "-30601.188\n",
      "-30601.152\n",
      "-30601.117\n",
      "-30601.084\n",
      "-30601.05\n",
      "-30601.018\n",
      "-30600.982\n",
      "-30600.951\n",
      "-30600.92\n",
      "-30600.887\n",
      "-30600.855\n",
      "-30600.824\n",
      "-30600.791\n",
      "-30600.762\n",
      "-30600.73\n",
      "-30600.701\n",
      "-30600.672\n",
      "-30600.645\n",
      "-30600.615\n",
      "-30600.586\n",
      "-30600.559\n",
      "-30600.531\n",
      "-30600.504\n"
     ]
    },
    {
     "name": "stderr",
     "output_type": "stream",
     "text": [
      " 91%|█████████ | 907/1000 [00:02<00:00, 473.53it/s]"
     ]
    },
    {
     "name": "stdout",
     "output_type": "stream",
     "text": [
      "-30600.477\n",
      "-30600.451\n",
      "-30600.426\n",
      "-30600.398\n",
      "-30600.373\n",
      "-30600.348\n",
      "-30600.324\n",
      "-30600.299\n",
      "-30600.275\n",
      "-30600.252\n",
      "-30600.229\n",
      "-30600.205\n",
      "-30600.182\n",
      "-30600.16\n",
      "-30600.137\n",
      "-30600.115\n",
      "-30600.094\n",
      "-30600.072\n",
      "-30600.05\n",
      "-30600.031\n",
      "-30600.01\n",
      "-30599.99\n",
      "-30599.97\n",
      "-30599.951\n",
      "-30599.932\n",
      "-30599.914\n",
      "-30599.895\n",
      "-30599.877\n",
      "-30599.857\n",
      "-30599.84\n",
      "-30599.822\n",
      "-30599.805\n",
      "-30599.79\n",
      "-30599.771\n",
      "-30599.756\n",
      "-30599.738\n",
      "-30599.725\n",
      "-30599.707\n",
      "-30599.691\n",
      "-30599.676\n",
      "-30599.662\n",
      "-30599.646\n",
      "-30599.633\n",
      "-30599.62\n",
      "-30599.605\n",
      "-30599.592\n",
      "-30599.578\n",
      "-30599.564\n",
      "-30599.553\n",
      "-30599.541\n",
      "-30599.527\n",
      "-30599.516\n",
      "-30599.504\n",
      "-30599.492\n",
      "-30599.48\n",
      "-30599.47\n",
      "-30599.459\n",
      "-30599.447\n",
      "-30599.438\n",
      "-30599.428\n",
      "-30599.418\n",
      "-30599.408\n",
      "-30599.398\n",
      "-30599.389\n",
      "-30599.379\n",
      "-30599.371\n",
      "-30599.361\n",
      "-30599.354\n",
      "-30599.346\n",
      "-30599.336\n",
      "-30599.328\n",
      "-30599.32\n",
      "-30599.312\n",
      "-30599.307\n",
      "-30599.299\n",
      "-30599.291\n",
      "-30599.285\n",
      "-30599.277\n",
      "-30599.271\n",
      "-30599.266\n",
      "-30599.26\n",
      "-30599.252\n",
      "-30599.248\n",
      "-30599.24\n",
      "-30599.236\n",
      "-30599.23\n",
      "-30599.225\n",
      "-30599.22\n",
      "-30599.215\n",
      "-30599.21\n",
      "-30599.205\n",
      "-30599.201\n",
      "-30599.197\n",
      "-30599.193\n",
      "-30599.19\n",
      "-30599.186\n",
      "-30599.182\n",
      "-30599.178\n",
      "-30599.174\n"
     ]
    },
    {
     "name": "stderr",
     "output_type": "stream",
     "text": [
      "100%|██████████| 1000/1000 [00:02<00:00, 369.14it/s]"
     ]
    },
    {
     "name": "stdout",
     "output_type": "stream",
     "text": [
      "-30599.17\n",
      "-30599.166\n",
      "-30599.164\n",
      "-30599.16\n",
      "-30599.158\n",
      "-30599.154\n",
      "-30599.152\n",
      "-30599.15\n",
      "-30599.146\n",
      "-30599.145\n",
      "-30599.143\n",
      "-30599.14\n",
      "-30599.139\n",
      "-30599.137\n",
      "-30599.135\n",
      "-30599.133\n",
      "-30599.13\n",
      "-30599.129\n",
      "-30599.129\n",
      "-30599.127\n",
      "-30599.125\n",
      "-30599.125\n",
      "-30599.123\n",
      "-30599.123\n",
      "-30599.121\n",
      "-30599.12\n",
      "-30599.12\n",
      "-30599.12\n",
      "-30599.117\n",
      "-30599.117\n",
      "-30599.115\n",
      "-30599.115\n",
      "-30599.115\n",
      "-30599.115\n",
      "-30599.113\n",
      "-30599.113\n",
      "-30599.113\n",
      "-30599.113\n",
      "-30599.111\n",
      "-30599.111\n",
      "-30599.111\n",
      "-30599.111\n",
      "-30599.111\n",
      "-30599.111\n",
      "-30599.111\n",
      "-30599.111\n",
      "-30599.111\n",
      "-30599.111\n",
      "-30599.111\n",
      "-30599.111\n",
      "-30599.111\n",
      "-30599.111\n",
      "-30599.111\n"
     ]
    },
    {
     "name": "stderr",
     "output_type": "stream",
     "text": [
      "\n"
     ]
    }
   ],
   "source": [
    "key = jax.random.PRNGKey(0)\n",
    "key = jax.random.split(key, num_devices)\n",
    "\n",
    "for iteration in tqdm.tqdm(range(num_iterations)):\n",
    "    params, net_state, opt_state, logprob_avg, key = sgd_train_epoch(\n",
    "        params, net_state, opt_state, train_set, key)"
   ]
  },
  {
   "cell_type": "code",
   "execution_count": 377,
   "metadata": {},
   "outputs": [],
   "source": [
    "test_predictions = onp.asarray(\n",
    "    predict_fn(net_apply, params, net_state, test_set))"
   ]
  },
  {
   "cell_type": "code",
   "execution_count": 378,
   "metadata": {},
   "outputs": [
    {
     "data": {
      "text/plain": [
       "[<matplotlib.lines.Line2D at 0x7f2228385760>]"
      ]
     },
     "execution_count": 378,
     "metadata": {},
     "output_type": "execute_result"
    },
    {
     "data": {
      "image/png": "[encoded data removed]",
      "text/plain": [
       "<Figure size 432x288 with 1 Axes>"
      ]
     },
     "metadata": {
      "needs_background": "light"
     },
     "output_type": "display_data"
    }
   ],
   "source": [
    "plt.plot(x_, test_predictions[0, :, 0])\n",
    "plt.plot(x, y, \"ro\")"
   ]
  },
  {
   "cell_type": "code",
   "execution_count": 379,
   "metadata": {},
   "outputs": [],
   "source": [
    "checkpoint_utils.save_checkpoint(\"synthreg_sgd_params.pt\", {\"params\": params})"
   ]
  },
  {
   "cell_type": "code",
   "execution_count": null,
   "metadata": {},
   "outputs": [],
   "source": []
  }
 ],
 "metadata": {
  "kernelspec": {
   "display_name": "py38",
   "language": "python",
   "name": "py38"
  },
  "language_info": {
   "codemirror_mode": {
    "name": "ipython",
    "version": 3
   },
   "file_extension": ".py",
   "mimetype": "text/x-python",
   "name": "python",
   "nbconvert_exporter": "python",
   "pygments_lexer": "ipython3",
   "version": "3.8.5"
  }
 },
 "nbformat": 4,
 "nbformat_minor": 4
}
