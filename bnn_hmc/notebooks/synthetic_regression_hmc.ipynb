{
 "cells": [
  {
   "cell_type": "markdown",
   "metadata": {},
   "source": [
    "# HMC on Synthetic Regression"
   ]
  },
  {
   "cell_type": "code",
   "execution_count": 1,
   "metadata": {},
   "outputs": [],
   "source": [
    "import os\n",
    "import sys\n",
    "from jax.config import config\n",
    "import haiku as hk\n",
    "import jax\n",
    "from jax import numpy as jnp\n",
    "import numpy as onp\n",
    "import time\n",
    "from jax.experimental.callback import rewrite\n",
    "import tqdm\n",
    "\n",
    "from bnn_hmc.utils import data_utils\n",
    "from bnn_hmc.utils import models\n",
    "from bnn_hmc.utils import losses\n",
    "from bnn_hmc.utils import checkpoint_utils\n",
    "from bnn_hmc.utils import cmd_args_utils\n",
    "from bnn_hmc.utils import logging_utils\n",
    "from bnn_hmc.utils import train_utils\n",
    "from bnn_hmc.utils import tree_utils\n",
    "from bnn_hmc.utils import precision_utils\n",
    "\n",
    "import optax\n",
    "import functools\n",
    "\n",
    "from matplotlib import pyplot as plt\n",
    "\n",
    "%matplotlib inline\n",
    "%load_ext autoreload\n",
    "%autoreload 2"
   ]
  },
  {
   "cell_type": "code",
   "execution_count": 2,
   "metadata": {},
   "outputs": [],
   "source": [
    "# tpu_ip = \"10.0.0.2\"\n",
    "# config.FLAGS.jax_xla_backend = \"tpu_driver\"\n",
    "# config.FLAGS.jax_backend_target = \"grpc://{}:8470\".format(tpu_ip)\n",
    "train_utils.set_up_jax(None, False)"
   ]
  },
  {
   "cell_type": "markdown",
   "metadata": {},
   "source": [
    "## Data"
   ]
  },
  {
   "cell_type": "code",
   "execution_count": 16,
   "metadata": {},
   "outputs": [],
   "source": [
    "data_npz = onp.load(\"synth_reg_data.npz\")\n",
    "x_ = jnp.asarray(data_npz[\"x_\"])\n",
    "y_ = jnp.asarray(data_npz[\"y_\"])\n",
    "f_ = jnp.asarray(data_npz[\"f_\"])\n",
    "x = jnp.asarray(data_npz[\"x\"])\n",
    "y = jnp.asarray(data_npz[\"y\"])\n",
    "f = jnp.asarray(data_npz[\"f\"])\n",
    "\n",
    "data_info = {\"y_scale\": 1.}"
   ]
  },
  {
   "cell_type": "code",
   "execution_count": 32,
   "metadata": {},
   "outputs": [],
   "source": [
    "def inv_softplus(x):\n",
    "    return jnp.log(jnp.exp(x) - 1)\n",
    "\n",
    "# Noise in the data\n",
    "noise_std = 0.02\n",
    "invsp_noise_std = inv_softplus(noise_std)"
   ]
  },
  {
   "cell_type": "code",
   "execution_count": 27,
   "metadata": {
    "scrolled": true
   },
   "outputs": [
    {
     "data": {
      "text/plain": [
       "[<matplotlib.lines.Line2D at 0x7f6a0edae4c0>]"
      ]
     },
     "execution_count": 27,
     "metadata": {},
     "output_type": "execute_result"
    },
    {
     "data": {
      "image/png": "[encoded data removed]",
      "text/plain": [
       "<Figure size 432x288 with 1 Axes>"
      ]
     },
     "metadata": {
      "needs_background": "light"
     },
     "output_type": "display_data"
    }
   ],
   "source": [
    "plt.plot(x, y, \"bo\")\n",
    "plt.plot(x_, y_, \"-k\")"
   ]
  },
  {
   "cell_type": "code",
   "execution_count": 43,
   "metadata": {},
   "outputs": [],
   "source": [
    "num_devices = len(jax.devices())\n",
    "train_set = (f, y)\n",
    "test_set = (f_, y_)\n",
    "train_set = data_utils.pmap_dataset(train_set, num_devices)\n",
    "test_set = data_utils.pmap_dataset(test_set, num_devices)"
   ]
  },
  {
   "cell_type": "markdown",
   "metadata": {},
   "source": [
    "## Model"
   ]
  },
  {
   "cell_type": "code",
   "execution_count": 24,
   "metadata": {},
   "outputs": [],
   "source": [
    "def make_model(layer_dims, invsp_noise_std):\n",
    "    def forward(batch, is_training):\n",
    "        x, _ = batch\n",
    "        x = hk.Flatten()(x)\n",
    "        for layer_dim in layer_dims:\n",
    "            x = hk.Linear(layer_dim)(x)\n",
    "            x = jax.nn.relu(x)\n",
    "        x = hk.Linear(1)(x)\n",
    "        x = jnp.concatenate([x, jnp.ones_like(x) * invsp_noise_std], -1)\n",
    "        return x\n",
    "    return forward"
   ]
  },
  {
   "cell_type": "code",
   "execution_count": 56,
   "metadata": {},
   "outputs": [],
   "source": [
    "# net_fn = models.make_mlp_regression(data_info, output_dim=1, layer_dims=[100, 100, 100])\n",
    "net_fn = make_model(layer_dims=[100, 100, 100], invsp_noise_std=invsp_noise_std)\n",
    "net = hk.transform_with_state(net_fn)\n",
    "net_apply, net_init = net.apply, net.init\n",
    "net_apply = precision_utils.rewrite_high_precision(net_apply)"
   ]
  },
  {
   "cell_type": "code",
   "execution_count": 57,
   "metadata": {},
   "outputs": [],
   "source": [
    "key, net_init_key = jax.random.split(jax.random.PRNGKey(0), 2)\n",
    "start_iteration = 0\n",
    "num_ensembled = 0\n",
    "ensemble_predictions = None\n",
    "step_size = 1.e-4"
   ]
  },
  {
   "cell_type": "code",
   "execution_count": 61,
   "metadata": {},
   "outputs": [],
   "source": [
    "param_seed = 0\n",
    "params, net_state = net.init(jax.random.PRNGKey(param_seed), (f, None), True)\n",
    "\n",
    "std = 0.005\n",
    "normal_key = jax.random.PRNGKey(10)\n",
    "\n",
    "num_leaves = len(jax.tree_leaves(params))\n",
    "normal_keys = list(jax.random.split(normal_key, num_leaves))\n",
    "treedef = jax.tree_structure(params)\n",
    "normal_keys = jax.tree_unflatten(treedef, normal_keys)\n",
    "params = jax.tree_multimap(lambda p, key: jax.random.normal(key, p.shape) * std,\n",
    "                           params, normal_keys)\n",
    "net_state = jax.pmap(lambda _: net_state)(jnp.arange(num_devices))"
   ]
  },
  {
   "cell_type": "markdown",
   "metadata": {},
   "source": [
    "## Prior and likelihood"
   ]
  },
  {
   "cell_type": "code",
   "execution_count": 62,
   "metadata": {},
   "outputs": [],
   "source": [
    "prior_std = 0.1\n",
    "weight_decay = 1 / prior_std**2\n",
    "\n",
    "task = data_utils.Task(\"regression\")\n",
    "(likelihood_factory, predict_fn, ensemble_upd_fn, _,_) = train_utils.get_task_specific_fns(task, data_info)\n",
    "log_prior_fn, log_prior_diff_fn = losses.make_gaussian_log_prior(weight_decay, 1.)"
   ]
  },
  {
   "cell_type": "code",
   "execution_count": 63,
   "metadata": {},
   "outputs": [],
   "source": [
    "log_prior_fn, log_prior_diff_fn = (\n",
    "    losses.make_gaussian_log_prior(weight_decay, 1.))\n",
    "log_likelihood_fn = losses.make_gaussian_likelihood(1.)"
   ]
  },
  {
   "cell_type": "markdown",
   "metadata": {},
   "source": [
    "## HMC update"
   ]
  },
  {
   "cell_type": "code",
   "execution_count": 64,
   "metadata": {},
   "outputs": [
    {
     "name": "stdout",
     "output_type": "stream",
     "text": [
      "Leapfrog steps per iteration: 15708\n"
     ]
    }
   ],
   "source": [
    "step_size = 1e-5\n",
    "trajectory_len = jnp.pi / 2 / jnp.sqrt(weight_decay)\n",
    "max_num_leapfrog_steps = int(trajectory_len // step_size + 1)\n",
    "print(\"Leapfrog steps per iteration:\", max_num_leapfrog_steps)"
   ]
  },
  {
   "cell_type": "code",
   "execution_count": 65,
   "metadata": {},
   "outputs": [],
   "source": [
    "update, get_log_prob_and_grad = train_utils.make_hmc_update(\n",
    "    net_apply, log_likelihood_fn, log_prior_fn, log_prior_diff_fn,\n",
    "    max_num_leapfrog_steps, 1., 0.)"
   ]
  },
  {
   "cell_type": "code",
   "execution_count": 66,
   "metadata": {},
   "outputs": [],
   "source": [
    "# Initial log-prob and grad values\n",
    "log_prob, state_grad, log_likelihood, net_state = (\n",
    "    get_log_prob_and_grad(train_set, params, net_state))"
   ]
  },
  {
   "cell_type": "markdown",
   "metadata": {},
   "source": [
    "## Run HMC"
   ]
  },
  {
   "cell_type": "code",
   "execution_count": null,
   "metadata": {},
   "outputs": [
    {
     "name": "stderr",
     "output_type": "stream",
     "text": [
      "  1%|          | 1/100 [00:04<07:08,  4.32s/it]"
     ]
    },
    {
     "name": "stdout",
     "output_type": "stream",
     "text": [
      "It: 0 \t Accept P: 0.20859037339687347 \t Accepted True \t Log-likelihood: 264.72412109375\n"
     ]
    },
    {
     "name": "stderr",
     "output_type": "stream",
     "text": [
      "\r",
      "  2%|▏         | 2/100 [00:08<07:06,  4.35s/it]"
     ]
    },
    {
     "name": "stdout",
     "output_type": "stream",
     "text": [
      "It: 1 \t Accept P: 1.0 \t Accepted True \t Log-likelihood: 283.1626281738281\n"
     ]
    },
    {
     "name": "stderr",
     "output_type": "stream",
     "text": [
      "\r",
      "  3%|▎         | 3/100 [00:12<06:59,  4.33s/it]"
     ]
    },
    {
     "name": "stdout",
     "output_type": "stream",
     "text": [
      "It: 2 \t Accept P: 0.5655859708786011 \t Accepted True \t Log-likelihood: 303.48687744140625\n"
     ]
    },
    {
     "name": "stderr",
     "output_type": "stream",
     "text": [
      "\r",
      "  4%|▍         | 4/100 [00:17<06:51,  4.28s/it]"
     ]
    },
    {
     "name": "stdout",
     "output_type": "stream",
     "text": [
      "It: 3 \t Accept P: 0.8177406191825867 \t Accepted True \t Log-likelihood: 305.7173156738281\n"
     ]
    },
    {
     "name": "stderr",
     "output_type": "stream",
     "text": [
      "\r",
      "  5%|▌         | 5/100 [00:21<06:46,  4.28s/it]"
     ]
    },
    {
     "name": "stdout",
     "output_type": "stream",
     "text": [
      "It: 4 \t Accept P: 1.0 \t Accepted True \t Log-likelihood: 307.953125\n"
     ]
    },
    {
     "name": "stderr",
     "output_type": "stream",
     "text": [
      "\r",
      "  6%|▌         | 6/100 [00:25<06:39,  4.25s/it]"
     ]
    },
    {
     "name": "stdout",
     "output_type": "stream",
     "text": [
      "It: 5 \t Accept P: 0.7260606288909912 \t Accepted False \t Log-likelihood: 307.953125\n"
     ]
    },
    {
     "name": "stderr",
     "output_type": "stream",
     "text": [
      "\r",
      "  7%|▋         | 7/100 [00:29<06:35,  4.25s/it]"
     ]
    },
    {
     "name": "stdout",
     "output_type": "stream",
     "text": [
      "It: 6 \t Accept P: 1.0 \t Accepted True \t Log-likelihood: 306.0469665527344\n"
     ]
    },
    {
     "name": "stderr",
     "output_type": "stream",
     "text": [
      "\r",
      "  8%|▊         | 8/100 [00:34<06:29,  4.24s/it]"
     ]
    },
    {
     "name": "stdout",
     "output_type": "stream",
     "text": [
      "It: 7 \t Accept P: 1.0 \t Accepted True \t Log-likelihood: 307.5419006347656\n"
     ]
    },
    {
     "name": "stderr",
     "output_type": "stream",
     "text": [
      "\r",
      "  9%|▉         | 9/100 [00:38<06:24,  4.22s/it]"
     ]
    },
    {
     "name": "stdout",
     "output_type": "stream",
     "text": [
      "It: 8 \t Accept P: 0.5999127626419067 \t Accepted True \t Log-likelihood: 305.2727966308594\n"
     ]
    },
    {
     "name": "stderr",
     "output_type": "stream",
     "text": [
      "\r",
      " 10%|█         | 10/100 [00:42<06:18,  4.20s/it]"
     ]
    },
    {
     "name": "stdout",
     "output_type": "stream",
     "text": [
      "It: 9 \t Accept P: 0.9791473746299744 \t Accepted True \t Log-likelihood: 306.078857421875\n"
     ]
    },
    {
     "name": "stderr",
     "output_type": "stream",
     "text": [
      "\r",
      " 11%|█         | 11/100 [00:46<06:14,  4.21s/it]"
     ]
    },
    {
     "name": "stdout",
     "output_type": "stream",
     "text": [
      "It: 10 \t Accept P: 0.5954712629318237 \t Accepted False \t Log-likelihood: 306.078857421875\n"
     ]
    },
    {
     "name": "stderr",
     "output_type": "stream",
     "text": [
      "\r",
      " 12%|█▏        | 12/100 [00:50<06:11,  4.22s/it]"
     ]
    },
    {
     "name": "stdout",
     "output_type": "stream",
     "text": [
      "It: 11 \t Accept P: 0.806975245475769 \t Accepted True \t Log-likelihood: 302.55487060546875\n"
     ]
    },
    {
     "name": "stderr",
     "output_type": "stream",
     "text": [
      "\r",
      " 13%|█▎        | 13/100 [00:55<06:07,  4.23s/it]"
     ]
    },
    {
     "name": "stdout",
     "output_type": "stream",
     "text": [
      "It: 12 \t Accept P: 1.0 \t Accepted True \t Log-likelihood: 302.2354736328125\n"
     ]
    },
    {
     "name": "stderr",
     "output_type": "stream",
     "text": [
      "\r",
      " 14%|█▍        | 14/100 [00:59<06:05,  4.25s/it]"
     ]
    },
    {
     "name": "stdout",
     "output_type": "stream",
     "text": [
      "It: 13 \t Accept P: 1.0 \t Accepted True \t Log-likelihood: 305.40045166015625\n"
     ]
    },
    {
     "name": "stderr",
     "output_type": "stream",
     "text": [
      "\r",
      " 15%|█▌        | 15/100 [01:03<06:04,  4.29s/it]"
     ]
    },
    {
     "name": "stdout",
     "output_type": "stream",
     "text": [
      "It: 14 \t Accept P: 1.0 \t Accepted True \t Log-likelihood: 305.08929443359375\n"
     ]
    },
    {
     "name": "stderr",
     "output_type": "stream",
     "text": [
      "\r",
      " 16%|█▌        | 16/100 [01:08<06:06,  4.36s/it]"
     ]
    },
    {
     "name": "stdout",
     "output_type": "stream",
     "text": [
      "It: 15 \t Accept P: 1.0 \t Accepted True \t Log-likelihood: 304.83795166015625\n"
     ]
    },
    {
     "name": "stderr",
     "output_type": "stream",
     "text": [
      "\r",
      " 17%|█▋        | 17/100 [01:12<06:01,  4.35s/it]"
     ]
    },
    {
     "name": "stdout",
     "output_type": "stream",
     "text": [
      "It: 16 \t Accept P: 1.0 \t Accepted True \t Log-likelihood: 305.1680908203125\n"
     ]
    },
    {
     "name": "stderr",
     "output_type": "stream",
     "text": [
      "\r",
      " 18%|█▊        | 18/100 [01:17<05:55,  4.34s/it]"
     ]
    },
    {
     "name": "stdout",
     "output_type": "stream",
     "text": [
      "It: 17 \t Accept P: 0.7910500168800354 \t Accepted True \t Log-likelihood: 303.4972229003906\n"
     ]
    },
    {
     "name": "stderr",
     "output_type": "stream",
     "text": [
      "\r",
      " 19%|█▉        | 19/100 [01:21<05:49,  4.32s/it]"
     ]
    },
    {
     "name": "stdout",
     "output_type": "stream",
     "text": [
      "It: 18 \t Accept P: 1.0 \t Accepted True \t Log-likelihood: 305.64990234375\n"
     ]
    },
    {
     "name": "stderr",
     "output_type": "stream",
     "text": [
      "\r",
      " 20%|██        | 20/100 [01:25<05:43,  4.30s/it]"
     ]
    },
    {
     "name": "stdout",
     "output_type": "stream",
     "text": [
      "It: 19 \t Accept P: 0.9564953446388245 \t Accepted True \t Log-likelihood: 298.2762451171875\n"
     ]
    },
    {
     "name": "stderr",
     "output_type": "stream",
     "text": [
      "\r",
      " 21%|██        | 21/100 [01:29<05:37,  4.28s/it]"
     ]
    },
    {
     "name": "stdout",
     "output_type": "stream",
     "text": [
      "It: 20 \t Accept P: 1.0 \t Accepted True \t Log-likelihood: 303.2359619140625\n"
     ]
    },
    {
     "name": "stderr",
     "output_type": "stream",
     "text": [
      "\r",
      " 22%|██▏       | 22/100 [01:34<05:33,  4.28s/it]"
     ]
    },
    {
     "name": "stdout",
     "output_type": "stream",
     "text": [
      "It: 21 \t Accept P: 0.9471855163574219 \t Accepted True \t Log-likelihood: 305.5938415527344\n"
     ]
    },
    {
     "name": "stderr",
     "output_type": "stream",
     "text": [
      "\r",
      " 23%|██▎       | 23/100 [01:38<05:30,  4.29s/it]"
     ]
    },
    {
     "name": "stdout",
     "output_type": "stream",
     "text": [
      "It: 22 \t Accept P: 1.0 \t Accepted True \t Log-likelihood: 302.67816162109375\n"
     ]
    },
    {
     "name": "stderr",
     "output_type": "stream",
     "text": [
      "\r",
      " 24%|██▍       | 24/100 [01:42<05:26,  4.30s/it]"
     ]
    },
    {
     "name": "stdout",
     "output_type": "stream",
     "text": [
      "It: 23 \t Accept P: 0.44964995980262756 \t Accepted False \t Log-likelihood: 302.67816162109375\n"
     ]
    },
    {
     "name": "stderr",
     "output_type": "stream",
     "text": [
      "\r",
      " 25%|██▌       | 25/100 [01:47<05:24,  4.33s/it]"
     ]
    },
    {
     "name": "stdout",
     "output_type": "stream",
     "text": [
      "It: 24 \t Accept P: 1.0 \t Accepted True \t Log-likelihood: 303.92822265625\n"
     ]
    },
    {
     "name": "stderr",
     "output_type": "stream",
     "text": [
      "\r",
      " 26%|██▌       | 26/100 [01:51<05:19,  4.32s/it]"
     ]
    },
    {
     "name": "stdout",
     "output_type": "stream",
     "text": [
      "It: 25 \t Accept P: 0.4773370623588562 \t Accepted False \t Log-likelihood: 303.92822265625\n"
     ]
    },
    {
     "name": "stderr",
     "output_type": "stream",
     "text": [
      "\r",
      " 27%|██▋       | 27/100 [01:55<05:15,  4.32s/it]"
     ]
    },
    {
     "name": "stdout",
     "output_type": "stream",
     "text": [
      "It: 26 \t Accept P: 1.0 \t Accepted True \t Log-likelihood: 306.2186279296875\n"
     ]
    },
    {
     "name": "stderr",
     "output_type": "stream",
     "text": [
      "\r",
      " 28%|██▊       | 28/100 [02:00<05:10,  4.32s/it]"
     ]
    },
    {
     "name": "stdout",
     "output_type": "stream",
     "text": [
      "It: 27 \t Accept P: 0.6704059839248657 \t Accepted False \t Log-likelihood: 306.2186279296875\n"
     ]
    },
    {
     "name": "stderr",
     "output_type": "stream",
     "text": [
      "\r",
      " 29%|██▉       | 29/100 [02:04<05:07,  4.33s/it]"
     ]
    },
    {
     "name": "stdout",
     "output_type": "stream",
     "text": [
      "It: 28 \t Accept P: 0.5675419569015503 \t Accepted False \t Log-likelihood: 306.2186279296875\n"
     ]
    },
    {
     "name": "stderr",
     "output_type": "stream",
     "text": [
      "\r",
      " 30%|███       | 30/100 [02:08<05:03,  4.34s/it]"
     ]
    },
    {
     "name": "stdout",
     "output_type": "stream",
     "text": [
      "It: 29 \t Accept P: 0.4967800974845886 \t Accepted True \t Log-likelihood: 306.07342529296875\n"
     ]
    },
    {
     "name": "stderr",
     "output_type": "stream",
     "text": [
      "\r",
      " 31%|███       | 31/100 [02:13<05:00,  4.36s/it]"
     ]
    },
    {
     "name": "stdout",
     "output_type": "stream",
     "text": [
      "It: 30 \t Accept P: 1.0 \t Accepted True \t Log-likelihood: 307.17950439453125\n"
     ]
    },
    {
     "name": "stderr",
     "output_type": "stream",
     "text": [
      "\r",
      " 32%|███▏      | 32/100 [02:17<05:02,  4.44s/it]"
     ]
    },
    {
     "name": "stdout",
     "output_type": "stream",
     "text": [
      "It: 31 \t Accept P: 0.7923033237457275 \t Accepted True \t Log-likelihood: 298.8511962890625\n"
     ]
    },
    {
     "name": "stderr",
     "output_type": "stream",
     "text": [
      "\r",
      " 33%|███▎      | 33/100 [02:22<04:57,  4.44s/it]"
     ]
    },
    {
     "name": "stdout",
     "output_type": "stream",
     "text": [
      "It: 32 \t Accept P: 1.0 \t Accepted True \t Log-likelihood: 306.61968994140625\n"
     ]
    },
    {
     "name": "stderr",
     "output_type": "stream",
     "text": [
      "\r",
      " 34%|███▍      | 34/100 [02:26<04:50,  4.40s/it]"
     ]
    },
    {
     "name": "stdout",
     "output_type": "stream",
     "text": [
      "It: 33 \t Accept P: 1.0 \t Accepted True \t Log-likelihood: 304.01763916015625\n"
     ]
    },
    {
     "name": "stderr",
     "output_type": "stream",
     "text": [
      "\r",
      " 35%|███▌      | 35/100 [02:31<04:47,  4.43s/it]"
     ]
    },
    {
     "name": "stdout",
     "output_type": "stream",
     "text": [
      "It: 34 \t Accept P: 1.0 \t Accepted True \t Log-likelihood: 304.37493896484375\n"
     ]
    },
    {
     "name": "stderr",
     "output_type": "stream",
     "text": [
      "\r",
      " 36%|███▌      | 36/100 [02:35<04:41,  4.40s/it]"
     ]
    },
    {
     "name": "stdout",
     "output_type": "stream",
     "text": [
      "It: 35 \t Accept P: 0.8216493129730225 \t Accepted True \t Log-likelihood: 305.7777099609375\n"
     ]
    },
    {
     "name": "stderr",
     "output_type": "stream",
     "text": [
      "\r",
      " 37%|███▋      | 37/100 [02:39<04:35,  4.37s/it]"
     ]
    },
    {
     "name": "stdout",
     "output_type": "stream",
     "text": [
      "It: 36 \t Accept P: 0.3499954342842102 \t Accepted True \t Log-likelihood: 305.7923583984375\n"
     ]
    },
    {
     "name": "stderr",
     "output_type": "stream",
     "text": [
      "\r",
      " 38%|███▊      | 38/100 [02:44<04:30,  4.36s/it]"
     ]
    },
    {
     "name": "stdout",
     "output_type": "stream",
     "text": [
      "It: 37 \t Accept P: 1.0 \t Accepted True \t Log-likelihood: 300.7176513671875\n"
     ]
    },
    {
     "name": "stderr",
     "output_type": "stream",
     "text": [
      "\r",
      " 39%|███▉      | 39/100 [02:48<04:25,  4.35s/it]"
     ]
    },
    {
     "name": "stdout",
     "output_type": "stream",
     "text": [
      "It: 38 \t Accept P: 1.0 \t Accepted True \t Log-likelihood: 302.1365966796875\n"
     ]
    },
    {
     "name": "stderr",
     "output_type": "stream",
     "text": [
      "\r",
      " 40%|████      | 40/100 [02:52<04:21,  4.37s/it]"
     ]
    },
    {
     "name": "stdout",
     "output_type": "stream",
     "text": [
      "It: 39 \t Accept P: 1.0 \t Accepted True \t Log-likelihood: 306.87261962890625\n"
     ]
    },
    {
     "name": "stderr",
     "output_type": "stream",
     "text": [
      "\r",
      " 41%|████      | 41/100 [02:57<04:19,  4.39s/it]"
     ]
    },
    {
     "name": "stdout",
     "output_type": "stream",
     "text": [
      "It: 40 \t Accept P: 0.6708927154541016 \t Accepted True \t Log-likelihood: 303.4183349609375\n"
     ]
    },
    {
     "name": "stderr",
     "output_type": "stream",
     "text": [
      "\r",
      " 42%|████▏     | 42/100 [03:01<04:17,  4.45s/it]"
     ]
    },
    {
     "name": "stdout",
     "output_type": "stream",
     "text": [
      "It: 41 \t Accept P: 0.5442217588424683 \t Accepted True \t Log-likelihood: 304.372802734375\n"
     ]
    },
    {
     "name": "stderr",
     "output_type": "stream",
     "text": [
      "\r",
      " 43%|████▎     | 43/100 [03:06<04:12,  4.43s/it]"
     ]
    },
    {
     "name": "stdout",
     "output_type": "stream",
     "text": [
      "It: 42 \t Accept P: 1.0 \t Accepted True \t Log-likelihood: 304.73883056640625\n"
     ]
    },
    {
     "name": "stderr",
     "output_type": "stream",
     "text": [
      "\r",
      " 44%|████▍     | 44/100 [03:10<04:07,  4.42s/it]"
     ]
    },
    {
     "name": "stdout",
     "output_type": "stream",
     "text": [
      "It: 43 \t Accept P: 1.0 \t Accepted True \t Log-likelihood: 304.59747314453125\n"
     ]
    },
    {
     "name": "stderr",
     "output_type": "stream",
     "text": [
      "\r",
      " 45%|████▌     | 45/100 [03:15<04:04,  4.44s/it]"
     ]
    },
    {
     "name": "stdout",
     "output_type": "stream",
     "text": [
      "It: 44 \t Accept P: 1.0 \t Accepted True \t Log-likelihood: 304.238037109375\n"
     ]
    },
    {
     "name": "stderr",
     "output_type": "stream",
     "text": [
      "\r",
      " 46%|████▌     | 46/100 [03:19<04:00,  4.45s/it]"
     ]
    },
    {
     "name": "stdout",
     "output_type": "stream",
     "text": [
      "It: 45 \t Accept P: 0.6901766657829285 \t Accepted True \t Log-likelihood: 307.09979248046875\n"
     ]
    },
    {
     "name": "stderr",
     "output_type": "stream",
     "text": [
      "\r",
      " 47%|████▋     | 47/100 [03:23<03:54,  4.43s/it]"
     ]
    },
    {
     "name": "stdout",
     "output_type": "stream",
     "text": [
      "It: 46 \t Accept P: 1.0 \t Accepted True \t Log-likelihood: 307.8445739746094\n"
     ]
    },
    {
     "name": "stderr",
     "output_type": "stream",
     "text": [
      "\r",
      " 48%|████▊     | 48/100 [03:28<03:49,  4.41s/it]"
     ]
    },
    {
     "name": "stdout",
     "output_type": "stream",
     "text": [
      "It: 47 \t Accept P: 1.0 \t Accepted True \t Log-likelihood: 304.93463134765625\n"
     ]
    },
    {
     "name": "stderr",
     "output_type": "stream",
     "text": [
      "\r",
      " 49%|████▉     | 49/100 [03:32<03:45,  4.42s/it]"
     ]
    },
    {
     "name": "stdout",
     "output_type": "stream",
     "text": [
      "It: 48 \t Accept P: 0.6356095671653748 \t Accepted True \t Log-likelihood: 304.191162109375\n"
     ]
    },
    {
     "name": "stderr",
     "output_type": "stream",
     "text": [
      "\r",
      " 50%|█████     | 50/100 [03:37<03:43,  4.48s/it]"
     ]
    },
    {
     "name": "stdout",
     "output_type": "stream",
     "text": [
      "It: 49 \t Accept P: 0.4877181649208069 \t Accepted True \t Log-likelihood: 304.51959228515625\n"
     ]
    },
    {
     "name": "stderr",
     "output_type": "stream",
     "text": [
      "\r",
      " 51%|█████     | 51/100 [03:41<03:38,  4.46s/it]"
     ]
    },
    {
     "name": "stdout",
     "output_type": "stream",
     "text": [
      "It: 50 \t Accept P: 0.8239342570304871 \t Accepted True \t Log-likelihood: 302.54901123046875\n"
     ]
    },
    {
     "name": "stderr",
     "output_type": "stream",
     "text": [
      "\r",
      " 52%|█████▏    | 52/100 [03:46<03:31,  4.42s/it]"
     ]
    },
    {
     "name": "stdout",
     "output_type": "stream",
     "text": [
      "It: 51 \t Accept P: 1.0 \t Accepted True \t Log-likelihood: 308.30255126953125\n"
     ]
    },
    {
     "name": "stderr",
     "output_type": "stream",
     "text": [
      "\r",
      " 53%|█████▎    | 53/100 [03:50<03:26,  4.40s/it]"
     ]
    },
    {
     "name": "stdout",
     "output_type": "stream",
     "text": [
      "It: 52 \t Accept P: 0.8127089738845825 \t Accepted True \t Log-likelihood: 305.3276062011719\n"
     ]
    },
    {
     "name": "stderr",
     "output_type": "stream",
     "text": [
      "\r",
      " 54%|█████▍    | 54/100 [03:54<03:21,  4.38s/it]"
     ]
    },
    {
     "name": "stdout",
     "output_type": "stream",
     "text": [
      "It: 53 \t Accept P: 1.0 \t Accepted True \t Log-likelihood: 301.68243408203125\n"
     ]
    },
    {
     "name": "stderr",
     "output_type": "stream",
     "text": [
      "\r",
      " 55%|█████▌    | 55/100 [03:59<03:16,  4.36s/it]"
     ]
    },
    {
     "name": "stdout",
     "output_type": "stream",
     "text": [
      "It: 54 \t Accept P: 0.8917319774627686 \t Accepted True \t Log-likelihood: 305.1502685546875\n"
     ]
    },
    {
     "name": "stderr",
     "output_type": "stream",
     "text": [
      "\r",
      " 56%|█████▌    | 56/100 [04:03<03:11,  4.35s/it]"
     ]
    },
    {
     "name": "stdout",
     "output_type": "stream",
     "text": [
      "It: 55 \t Accept P: 1.0 \t Accepted True \t Log-likelihood: 306.04730224609375\n"
     ]
    },
    {
     "name": "stderr",
     "output_type": "stream",
     "text": [
      "\r",
      " 57%|█████▋    | 57/100 [04:07<03:06,  4.34s/it]"
     ]
    },
    {
     "name": "stdout",
     "output_type": "stream",
     "text": [
      "It: 56 \t Accept P: 1.0 \t Accepted True \t Log-likelihood: 304.60888671875\n"
     ]
    },
    {
     "name": "stderr",
     "output_type": "stream",
     "text": [
      "\r",
      " 58%|█████▊    | 58/100 [04:12<03:03,  4.37s/it]"
     ]
    },
    {
     "name": "stdout",
     "output_type": "stream",
     "text": [
      "It: 57 \t Accept P: 1.0 \t Accepted True \t Log-likelihood: 306.2462158203125\n"
     ]
    },
    {
     "name": "stderr",
     "output_type": "stream",
     "text": [
      "\r",
      " 59%|█████▉    | 59/100 [04:16<02:59,  4.38s/it]"
     ]
    },
    {
     "name": "stdout",
     "output_type": "stream",
     "text": [
      "It: 58 \t Accept P: 0.7897264361381531 \t Accepted True \t Log-likelihood: 304.31500244140625\n"
     ]
    },
    {
     "name": "stderr",
     "output_type": "stream",
     "text": [
      "\r",
      " 60%|██████    | 60/100 [04:21<02:56,  4.40s/it]"
     ]
    },
    {
     "name": "stdout",
     "output_type": "stream",
     "text": [
      "It: 59 \t Accept P: 0.7606061100959778 \t Accepted True \t Log-likelihood: 304.5753173828125\n"
     ]
    },
    {
     "name": "stderr",
     "output_type": "stream",
     "text": [
      "\r",
      " 61%|██████    | 61/100 [04:25<02:51,  4.40s/it]"
     ]
    },
    {
     "name": "stdout",
     "output_type": "stream",
     "text": [
      "It: 60 \t Accept P: 0.812684178352356 \t Accepted False \t Log-likelihood: 304.5753173828125\n"
     ]
    },
    {
     "name": "stderr",
     "output_type": "stream",
     "text": [
      "\r",
      " 62%|██████▏   | 62/100 [04:29<02:49,  4.45s/it]"
     ]
    },
    {
     "name": "stdout",
     "output_type": "stream",
     "text": [
      "It: 61 \t Accept P: 0.9605173468589783 \t Accepted False \t Log-likelihood: 304.5753173828125\n"
     ]
    },
    {
     "name": "stderr",
     "output_type": "stream",
     "text": [
      "\r",
      " 63%|██████▎   | 63/100 [04:34<02:43,  4.43s/it]"
     ]
    },
    {
     "name": "stdout",
     "output_type": "stream",
     "text": [
      "It: 62 \t Accept P: 0.8020771145820618 \t Accepted True \t Log-likelihood: 302.2872314453125\n"
     ]
    },
    {
     "name": "stderr",
     "output_type": "stream",
     "text": [
      "\r",
      " 64%|██████▍   | 64/100 [04:38<02:38,  4.41s/it]"
     ]
    },
    {
     "name": "stdout",
     "output_type": "stream",
     "text": [
      "It: 63 \t Accept P: 0.7953254580497742 \t Accepted True \t Log-likelihood: 298.8271484375\n"
     ]
    },
    {
     "name": "stderr",
     "output_type": "stream",
     "text": [
      "\r",
      " 65%|██████▌   | 65/100 [04:43<02:34,  4.43s/it]"
     ]
    },
    {
     "name": "stdout",
     "output_type": "stream",
     "text": [
      "It: 64 \t Accept P: 0.7411268949508667 \t Accepted False \t Log-likelihood: 298.8271484375\n"
     ]
    }
   ],
   "source": [
    "num_iterations = 100\n",
    "all_test_preds = []\n",
    "\n",
    "for iteration in tqdm.tqdm(range(num_iterations)):\n",
    "    \n",
    "#     in_burnin = (iteration < args.num_burn_in_iterations)\n",
    "#     do_mh_correction = (not args.no_mh) and (not in_burnin)\n",
    "\n",
    "    (params, net_state, log_likelihood, state_grad, step_size, key,\n",
    "     accept_prob, accepted) = (\n",
    "        update(train_set, params, net_state, log_likelihood, state_grad,\n",
    "               key, step_size, trajectory_len, True))\n",
    "    # Evaluation\n",
    "    test_predictions = onp.asarray(\n",
    "      predict_fn(net_apply, params, net_state, test_set))\n",
    "    if accepted:\n",
    "        all_test_preds.append(test_predictions)\n",
    "\n",
    "    print(\"It: {} \\t Accept P: {} \\t Accepted {} \\t Log-likelihood: {}\".format(\n",
    "            iteration, accept_prob, accepted, log_likelihood))"
   ]
  },
  {
   "cell_type": "code",
   "execution_count": 54,
   "metadata": {},
   "outputs": [
    {
     "data": {
      "image/png": "[encoded data removed]",
      "text/plain": [
       "<Figure size 432x288 with 1 Axes>"
      ]
     },
     "metadata": {
      "needs_background": "light"
     },
     "output_type": "display_data"
    }
   ],
   "source": [
    "for pred in all_test_preds[-5:]:\n",
    "    plt.plot(x_, pred[0, :, 0])"
   ]
  },
  {
   "cell_type": "code",
   "execution_count": null,
   "metadata": {},
   "outputs": [],
   "source": []
  },
  {
   "cell_type": "code",
   "execution_count": null,
   "metadata": {},
   "outputs": [],
   "source": []
  },
  {
   "cell_type": "code",
   "execution_count": null,
   "metadata": {},
   "outputs": [],
   "source": []
  },
  {
   "cell_type": "markdown",
   "metadata": {},
   "source": [
    "# Old"
   ]
  },
  {
   "cell_type": "code",
   "execution_count": 94,
   "metadata": {},
   "outputs": [],
   "source": [
    "update, get_log_prob_and_grad, evaluate = train_utils.make_hmc_update(\n",
    "    net_apply, log_likelihood_fn, log_prior_fn, log_prior_diff_fn,\n",
    "    0., 0.)"
   ]
  },
  {
   "cell_type": "code",
   "execution_count": 93,
   "metadata": {},
   "outputs": [],
   "source": [
    "num_devices = len(jax.devices())\n",
    "train_set = (f, y)\n",
    "test_set = (f_, y_)\n",
    "train_set = data.pmap_dataset(train_set, num_devices)\n",
    "test_set = data.pmap_dataset(test_set, num_devices)\n",
    "\n",
    "net_state = jax.pmap(lambda _: net_state)(jnp.arange(num_devices))"
   ]
  },
  {
   "cell_type": "code",
   "execution_count": 95,
   "metadata": {},
   "outputs": [
    {
     "name": "stdout",
     "output_type": "stream",
     "text": [
      "-39540.977\n"
     ]
    }
   ],
   "source": [
    "log_prob, state_grad, log_likelihood, net_state = (\n",
    "    get_log_prob_and_grad(train_set, params, net_state))\n",
    "print(log_prob)"
   ]
  },
  {
   "cell_type": "code",
   "execution_count": 97,
   "metadata": {},
   "outputs": [
    {
     "name": "stderr",
     "output_type": "stream",
     "text": [
      "100%|██████████| 201/201 [05:05<00:00,  1.52s/it]\n"
     ]
    }
   ],
   "source": [
    "key = jax.random.PRNGKey(10)\n",
    "all_pred_y_ = []\n",
    "save_freq = 10\n",
    "\n",
    "for iteration in tqdm.tqdm(range(201)):\n",
    "    (params, net_state, log_likelihood, state_grad, step_size, key, accept_prob, accepted) = (\n",
    "        update(train_set, params, net_state, log_likelihood, state_grad,\n",
    "               key, step_size, trajectory_len, False))\n",
    "    pred_y_, _ = net_apply(params, net_state, None, (f_, None), False)\n",
    "    all_pred_y_.append(onp.asarray(pred_y_))\n",
    "    \n",
    "#     if iteration % save_freq == 0:\n",
    "#         checkpoint_name = checkpoint_utils.make_checkpoint_name(iteration)\n",
    "#         checkpoint_dict = checkpoint_utils.make_hmc_checkpoint_dict(\n",
    "#             iteration, params, net_state, key, step_size, accepted, None,\n",
    "#             None)\n",
    "#         checkpoint_utils.save_checkpoint(checkpoint_name, checkpoint_dict)"
   ]
  },
  {
   "cell_type": "code",
   "execution_count": 98,
   "metadata": {},
   "outputs": [],
   "source": [
    "all_pred_y_stack_ = onp.concatenate([preds[None, :, 0] for preds in all_pred_y_])"
   ]
  },
  {
   "cell_type": "code",
   "execution_count": 99,
   "metadata": {},
   "outputs": [],
   "source": [
    "all_pred_y_stack_ = all_pred_y_stack_[10:]"
   ]
  },
  {
   "cell_type": "code",
   "execution_count": 100,
   "metadata": {},
   "outputs": [],
   "source": [
    "pred_mean = onp.mean(all_pred_y_stack_, axis=0)\n",
    "pred_std = onp.std(all_pred_y_stack_, axis=0)"
   ]
  },
  {
   "cell_type": "code",
   "execution_count": 101,
   "metadata": {},
   "outputs": [
    {
     "data": {
      "image/png": "[encoded data removed]",
      "text/plain": [
       "<Figure size 432x288 with 1 Axes>"
      ]
     },
     "metadata": {
      "needs_background": "light"
     },
     "output_type": "display_data"
    }
   ],
   "source": [
    "pred_y_, _ = net_apply(params, net_state, None, (f_, None), False)\n",
    "plt.plot(x, y, \"bo\")\n",
    "plt.plot(x_, y_, \"-k\")\n",
    "plt.fill_between(x_, pred_mean + 3*pred_std, pred_mean - 3*pred_std, color=\"g\", alpha=0.5)\n",
    "plt.plot(x_, all_pred_y_[-1], \"--g\")\n",
    "for preds in all_pred_y_stack_[::50]:\n",
    "    plt.plot(x_, preds, alpha=0.5, color=\"g\")"
   ]
  },
  {
   "cell_type": "code",
   "execution_count": 102,
   "metadata": {},
   "outputs": [],
   "source": [
    "# onp.savez(\"predictive_1.npz\", preds=all_pred_y_stack_)"
   ]
  },
  {
   "cell_type": "markdown",
   "metadata": {},
   "source": [
    "## Compare two chains"
   ]
  },
  {
   "cell_type": "code",
   "execution_count": 103,
   "metadata": {},
   "outputs": [
    {
     "data": {
      "image/png": "[encoded data removed]",
      "text/plain": [
       "<Figure size 432x288 with 1 Axes>"
      ]
     },
     "metadata": {
      "needs_background": "light"
     },
     "output_type": "display_data"
    }
   ],
   "source": [
    "all_pred_y_stack_ = onp.load(\"predictive_1.npz\")[\"preds\"]\n",
    "pred_mean = onp.mean(all_pred_y_stack_, axis=0)\n",
    "pred_std = onp.std(all_pred_y_stack_, axis=0)\n",
    "\n",
    "plt.plot(x, y, \"bo\")\n",
    "plt.plot(x_, y_, \"-k\")\n",
    "plt.fill_between(x_, pred_mean + 3*pred_std, pred_mean - 3*pred_std, color=\"g\", alpha=0.3)\n",
    "for preds in all_pred_y_stack_[::20]:\n",
    "    plt.plot(x_, preds, alpha=0.5, color=\"g\")"
   ]
  },
  {
   "cell_type": "code",
   "execution_count": 104,
   "metadata": {},
   "outputs": [
    {
     "data": {
      "image/png": "[encoded data removed]",
      "text/plain": [
       "<Figure size 432x288 with 1 Axes>"
      ]
     },
     "metadata": {
      "needs_background": "light"
     },
     "output_type": "display_data"
    }
   ],
   "source": [
    "all_pred_y_stack_ = onp.load(\"predictive_0.npz\")[\"preds\"]\n",
    "pred_mean = onp.mean(all_pred_y_stack_, axis=0)\n",
    "pred_std = onp.std(all_pred_y_stack_, axis=0)\n",
    "\n",
    "plt.plot(x, y, \"bo\")\n",
    "plt.plot(x_, y_, \"-k\")\n",
    "plt.fill_between(x_, pred_mean + 3*pred_std, pred_mean - 3*pred_std, color=\"b\", alpha=0.3)\n",
    "for preds in all_pred_y_stack_[::20]:\n",
    "    plt.plot(x_, preds, alpha=0.5, color=\"b\")"
   ]
  },
  {
   "cell_type": "code",
   "execution_count": 105,
   "metadata": {},
   "outputs": [
    {
     "data": {
      "image/png": "[encoded data removed]",
      "text/plain": [
       "<Figure size 432x288 with 1 Axes>"
      ]
     },
     "metadata": {
      "needs_background": "light"
     },
     "output_type": "display_data"
    }
   ],
   "source": [
    "all_pred_y_stack_ = onp.load(\"predictive_1.npz\")[\"preds\"]\n",
    "pred_mean = onp.mean(all_pred_y_stack_, axis=0)\n",
    "pred_std = onp.std(all_pred_y_stack_, axis=0)\n",
    "\n",
    "plt.plot(x, y, \"bo\")\n",
    "plt.plot(x_, y_, \"-k\")\n",
    "plt.fill_between(x_, pred_mean + 3*pred_std, pred_mean - 3*pred_std, color=\"g\", alpha=0.3)\n",
    "for preds in all_pred_y_stack_[::20]:\n",
    "    plt.plot(x_, preds, alpha=0.5, color=\"g\")\n",
    "    \n",
    "    all_pred_y_stack_ = onp.load(\"predictive_0.npz\")[\"preds\"]\n",
    "pred_mean = onp.mean(all_pred_y_stack_, axis=0)\n",
    "pred_std = onp.std(all_pred_y_stack_, axis=0)\n",
    "\n",
    "plt.fill_between(x_, pred_mean + 3*pred_std, pred_mean - 3*pred_std, color=\"b\", alpha=0.3)\n",
    "for preds in all_pred_y_stack_[::20]:\n",
    "    plt.plot(x_, preds, alpha=0.5, color=\"b\")"
   ]
  },
  {
   "cell_type": "code",
   "execution_count": null,
   "metadata": {},
   "outputs": [],
   "source": []
  },
  {
   "cell_type": "code",
   "execution_count": null,
   "metadata": {},
   "outputs": [],
   "source": []
  },
  {
   "cell_type": "code",
   "execution_count": null,
   "metadata": {},
   "outputs": [],
   "source": []
  },
  {
   "cell_type": "code",
   "execution_count": 68,
   "metadata": {},
   "outputs": [
    {
     "data": {
      "image/png": "[encoded data removed]",
      "text/plain": [
       "<Figure size 432x288 with 1 Axes>"
      ]
     },
     "metadata": {
      "needs_background": "light"
     },
     "output_type": "display_data"
    }
   ],
   "source": [
    "pred_y_, _ = net_apply(params, net_state, None, (f_, None), False)\n",
    "plt.plot(x, y, \"bo\")\n",
    "plt.plot(x_, y_, \"-k\")\n",
    "plt.fill_between(x_, pred_mean + pred_std, pred_mean - pred_std, color=\"g\", alpha=0.5)\n",
    "plt.plot(x_, all_pred_y_[-1], \"--g\")\n",
    "for preds in all_pred_y_stack_[::50]:\n",
    "    plt.plot(x_, preds, alpha=0.5, color=\"g\")"
   ]
  },
  {
   "cell_type": "code",
   "execution_count": 70,
   "metadata": {},
   "outputs": [],
   "source": [
    "# onp.savez(\"predictive_1.npz\", preds=all_pred_y_stack_)\n",
    "# onp.savez(\"predictive_0.npz\", preds=all_pred_y_stack_)"
   ]
  },
  {
   "cell_type": "code",
   "execution_count": 69,
   "metadata": {},
   "outputs": [
    {
     "data": {
      "image/png": "[encoded data removed]",
      "text/plain": [
       "<Figure size 432x288 with 1 Axes>"
      ]
     },
     "metadata": {
      "needs_background": "light"
     },
     "output_type": "display_data"
    }
   ],
   "source": [
    "pred_y_, _ = net_apply(params, net_state, None, (f_, None), False)\n",
    "plt.plot(x, y, \"bo\")\n",
    "# plt.fill_between(x_, pred_mean + pred_std, pred_mean - pred_std, color=\"g\", alpha=0.5)\n",
    "for preds in all_pred_y_stack_[::1]:\n",
    "    plt.plot(x_, preds, alpha=0.5, color=\"g\")"
   ]
  },
  {
   "cell_type": "markdown",
   "metadata": {},
   "source": [
    "## Loss Surface"
   ]
  },
  {
   "cell_type": "code",
   "execution_count": 111,
   "metadata": {},
   "outputs": [],
   "source": [
    "def tree_diff(a, b):\n",
    "    return jax.tree_multimap(lambda p_a, p_b: p_a - p_b, a, b)\n",
    "def tree_norm(a):\n",
    "    return float(jnp.sqrt(sum([jnp.sum(p_a**2) for p_a in jax.tree_leaves(a)])))\n",
    "    \n",
    "def get_u_v_o(params1, params2, params3):\n",
    "    \n",
    "#     print([p.shape for p in jax.tree_leaves(params1)])\n",
    "    \n",
    "    u_params = tree_diff(params2, params1)\n",
    "    u_norm = tree_norm(u_params)\n",
    "    u_params = tree_utils.tree_scalarmul(u_params, 1 / u_norm)\n",
    "    v_params = tree_diff(params3, params1)\n",
    "    uv_dot = tree_utils.tree_dot(u_params, v_params)\n",
    "    v_params = jax.tree_multimap(lambda v, u: v - uv_dot * u, v_params, u_params)\n",
    "    v_norm = tree_norm(v_params)\n",
    "    v_params = tree_utils.tree_scalarmul(v_params, 1 / v_norm)\n",
    "    \n",
    "    return u_params, u_norm, v_params, v_norm, params1"
   ]
  },
  {
   "cell_type": "code",
   "execution_count": 107,
   "metadata": {},
   "outputs": [],
   "source": [
    "checkpoint_dict = checkpoint_utils.load_checkpoint(\"model_step_100.pt\")\n",
    "params1 = checkpoint_dict[\"params\"]\n",
    "\n",
    "checkpoint_dict = checkpoint_utils.load_checkpoint(\"model_step_150.pt\")\n",
    "params2 = checkpoint_dict[\"params\"]\n",
    "\n",
    "checkpoint_dict = checkpoint_utils.load_checkpoint(\"model_step_200.pt\")\n",
    "params3 = checkpoint_dict[\"params\"]"
   ]
  },
  {
   "cell_type": "code",
   "execution_count": 108,
   "metadata": {},
   "outputs": [
    {
     "name": "stdout",
     "output_type": "stream",
     "text": [
      "-38898.477\n",
      "-38923.75\n",
      "-38970.83\n"
     ]
    }
   ],
   "source": [
    "for params in [params1, params2, params3]:\n",
    "    log_prob, _, _, _ = evaluate(params, net_state, train_set)\n",
    "    print(log_prob)"
   ]
  },
  {
   "cell_type": "code",
   "execution_count": 471,
   "metadata": {
    "scrolled": true
   },
   "outputs": [
    {
     "name": "stderr",
     "output_type": "stream",
     "text": [
      "100%|██████████| 40/40 [01:42<00:00,  2.56s/it]\n"
     ]
    }
   ],
   "source": [
    "u_params, u_norm, v_params, v_norm, o_params = get_u_v_o(params1, params2, params3)\n",
    "\n",
    "u_ts = onp.linspace(-.25, 1.25, 40)\n",
    "v_ts = onp.linspace(-.25, 1.25, 40)\n",
    "n_u, n_v = len(u_ts), len(v_ts)\n",
    "log_probs = onp.zeros((n_u, n_v))\n",
    "grid = onp.zeros((n_u, n_v, 2))\n",
    "\n",
    "for u_i, u_t in enumerate(tqdm.tqdm(u_ts)):\n",
    "    for v_i, v_t in enumerate(v_ts):\n",
    "        grid[u_i, v_i] = [u_t, v_t]\n",
    "        params = jax.tree_multimap(lambda u, v, o: o + u * u_t * u_norm + v * v_t * v_norm, \n",
    "                                   u_params, v_params, o_params)\n",
    "        log_prob, _, _, _ = evaluate(params, net_state, train_set)\n",
    "        log_probs[u_i, v_i] = float(log_prob)"
   ]
  },
  {
   "cell_type": "code",
   "execution_count": 472,
   "metadata": {},
   "outputs": [
    {
     "data": {
      "text/plain": [
       "[<matplotlib.lines.Line2D at 0x7fc693980610>]"
      ]
     },
     "execution_count": 472,
     "metadata": {},
     "output_type": "execute_result"
    },
    {
     "data": {
      "image/png": "[encoded data removed]",
      "text/plain": [
       "<Figure size 432x288 with 1 Axes>"
      ]
     },
     "metadata": {
      "needs_background": "light"
     },
     "output_type": "display_data"
    }
   ],
   "source": [
    "log_probs_cliped = onp.clip(log_probs, -7.e4, 0)\n",
    "plt.contour(grid[:, :, 0], grid[:, :, 1], log_probs_cliped, zorder=1)\n",
    "plt.contourf(grid[:, :, 0], grid[:, :, 1], log_probs_cliped, zorder=0, alpha=0.55)\n",
    "plt.plot([0., 1., 0.5], [0., 0., 1.], \"ro\", ms=20, markeredgecolor=\"k\")"
   ]
  },
  {
   "cell_type": "markdown",
   "metadata": {},
   "source": [
    "## Distance analysis"
   ]
  },
  {
   "cell_type": "code",
   "execution_count": 119,
   "metadata": {},
   "outputs": [],
   "source": [
    "checkpoint_dict = checkpoint_utils.load_checkpoint(\"model_step_100.pt\")\n",
    "params1 = checkpoint_dict[\"params\"]\n",
    "\n",
    "checkpoint_dict = checkpoint_utils.load_checkpoint(\"model_step_200.pt\")\n",
    "params2 = checkpoint_dict[\"params\"]"
   ]
  },
  {
   "cell_type": "code",
   "execution_count": 120,
   "metadata": {},
   "outputs": [
    {
     "name": "stdout",
     "output_type": "stream",
     "text": [
      "20.265684127807617 20.298277\n"
     ]
    }
   ],
   "source": [
    "d = sum([jnp.size(p) for p in jax.tree_leaves(params1)])\n",
    "theory_dist = jnp.sqrt(2 * d * prior_std**2)\n",
    "\n",
    "dist = tree_norm(tree_diff(params2, params1))\n",
    "print(dist, theory_dist)"
   ]
  },
  {
   "cell_type": "code",
   "execution_count": 5,
   "metadata": {},
   "outputs": [],
   "source": [
    "a,b,c = zip(*[[1, \"a\", 0.1], [2, \"b\", 0.2], [3, \"c\", 0.3]])"
   ]
  },
  {
   "cell_type": "code",
   "execution_count": null,
   "metadata": {},
   "outputs": [],
   "source": []
  }
 ],
 "metadata": {
  "kernelspec": {
   "display_name": "py38",
   "language": "python",
   "name": "py38"
  },
  "language_info": {
   "codemirror_mode": {
    "name": "ipython",
    "version": 3
   },
   "file_extension": ".py",
   "mimetype": "text/x-python",
   "name": "python",
   "nbconvert_exporter": "python",
   "pygments_lexer": "ipython3",
   "version": "3.8.5"
  }
 },
 "nbformat": 4,
 "nbformat_minor": 4
}
