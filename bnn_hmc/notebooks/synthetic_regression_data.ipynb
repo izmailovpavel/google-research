{
 "cells": [
  {
   "cell_type": "code",
   "execution_count": 1,
   "metadata": {},
   "outputs": [],
   "source": [
    "import os\n",
    "import sys\n",
    "from jax.config import config\n",
    "import haiku as hk\n",
    "import jax\n",
    "from jax import numpy as jnp\n",
    "import numpy as onp\n",
    "import time\n",
    "from jax.experimental.callback import rewrite\n",
    "import tqdm\n",
    "\n",
    "from bnn_hmc import data\n",
    "from bnn_hmc import models\n",
    "from bnn_hmc import nn_loss\n",
    "from bnn_hmc import train_utils\n",
    "from bnn_hmc import precision_utils\n",
    "from jax.experimental import optix\n",
    "import functools\n",
    "\n",
    "from matplotlib import pyplot as plt\n",
    "\n",
    "%matplotlib inline\n",
    "%load_ext autoreload\n",
    "%autoreload 2"
   ]
  },
  {
   "cell_type": "code",
   "execution_count": 2,
   "metadata": {},
   "outputs": [],
   "source": [
    "tpu_ip = \"10.0.0.2\"\n",
    "config.FLAGS.jax_xla_backend = \"tpu_driver\"\n",
    "config.FLAGS.jax_backend_target = \"grpc://{}:8470\".format(tpu_ip)"
   ]
  },
  {
   "cell_type": "code",
   "execution_count": 3,
   "metadata": {},
   "outputs": [],
   "source": [
    "net_fn = models.make_mlp_regression(layer_dims=[100, 100, 100])\n",
    "net = hk.transform_with_state(net_fn)\n",
    "net_apply = net.apply\n",
    "net_apply = jax.experimental.callback.rewrite(\n",
    "  net_apply,\n",
    "  precision_utils.HIGH_PRECISION_RULES)"
   ]
  },
  {
   "cell_type": "code",
   "execution_count": 6,
   "metadata": {},
   "outputs": [],
   "source": [
    "x = jnp.concatenate([jnp.linspace(a, b, 40) for a, b in zip([-10, 6, 14], [-6, 10, 18])])\n",
    "x_ = jnp.linspace(-14, 22, 120)"
   ]
  },
  {
   "cell_type": "code",
   "execution_count": 7,
   "metadata": {},
   "outputs": [],
   "source": [
    "def featurize(x):\n",
    "    return jnp.concatenate([x[:, None], x[:, None]**2], axis=1)\n",
    "\n",
    "f = featurize(x)\n",
    "f_ = featurize(x_)"
   ]
  },
  {
   "cell_type": "code",
   "execution_count": 8,
   "metadata": {},
   "outputs": [],
   "source": [
    "params, net_state = net.init(jax.random.PRNGKey(0), (f, None), True)"
   ]
  },
  {
   "cell_type": "code",
   "execution_count": 9,
   "metadata": {},
   "outputs": [],
   "source": [
    "std = 0.1\n",
    "normal_key = jax.random.PRNGKey(22)\n",
    "\n",
    "num_leaves = len(jax.tree_leaves(params))\n",
    "normal_keys = list(jax.random.split(normal_key, num_leaves))\n",
    "treedef = jax.tree_structure(params)\n",
    "normal_keys = jax.tree_unflatten(treedef, normal_keys)\n",
    "params = jax.tree_multimap(lambda p, key: jax.random.normal(key, p.shape) * std,\n",
    "                           params, normal_keys)"
   ]
  },
  {
   "cell_type": "code",
   "execution_count": 10,
   "metadata": {},
   "outputs": [],
   "source": [
    "noise_key = jax.random.PRNGKey(0)\n",
    "noise_std = 0.02\n",
    "\n",
    "y, _ = net_apply(params, net_state, None, (f, None), False)\n",
    "y_, _ = net_apply(params, net_state, None, (f_, None), False)\n",
    "y += jax.random.normal(noise_key, y.shape) * noise_std"
   ]
  },
  {
   "cell_type": "code",
   "execution_count": 11,
   "metadata": {},
   "outputs": [
    {
     "data": {
      "text/plain": [
       "[<matplotlib.lines.Line2D at 0x7f87381e3e90>]"
      ]
     },
     "execution_count": 11,
     "metadata": {},
     "output_type": "execute_result"
    },
    {
     "data": {
      "image/png": "[encoded data removed]",
      "text/plain": [
       "<Figure size 432x288 with 1 Axes>"
      ]
     },
     "metadata": {
      "needs_background": "light"
     },
     "output_type": "display_data"
    }
   ],
   "source": [
    "plt.plot(x, y, \"bo\")\n",
    "plt.plot(x_, y_, \"-k\")"
   ]
  },
  {
   "cell_type": "code",
   "execution_count": 12,
   "metadata": {},
   "outputs": [],
   "source": [
    "data = onp.savez(\n",
    "    \"synth_reg_data.npz\",\n",
    "    x_=onp.asarray(x_),\n",
    "    y_=onp.asarray(y_),\n",
    "    f_=onp.asarray(f_),\n",
    "    x=onp.asarray(x),\n",
    "    y=onp.asarray(y),\n",
    "    f=onp.asarray(f)\n",
    ")"
   ]
  },
  {
   "cell_type": "code",
   "execution_count": null,
   "metadata": {},
   "outputs": [],
   "source": [
    "noise_var = \n",
    "\n",
    "log_prior_fn, log_prior_diff_fn = (\n",
    "    nn_loss.make_gaussian_log_prior(weight_decay=0.1))"
   ]
  }
 ],
 "metadata": {
  "kernelspec": {
   "display_name": "Python 3",
   "language": "python",
   "name": "python3"
  },
  "language_info": {
   "codemirror_mode": {
    "name": "ipython",
    "version": 3
   },
   "file_extension": ".py",
   "mimetype": "text/x-python",
   "name": "python",
   "nbconvert_exporter": "python",
   "pygments_lexer": "ipython3",
   "version": "3.7.9"
  }
 },
 "nbformat": 4,
 "nbformat_minor": 4
}
